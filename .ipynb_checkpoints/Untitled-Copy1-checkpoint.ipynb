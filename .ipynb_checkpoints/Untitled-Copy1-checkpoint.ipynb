{
 "cells": [
  {
   "cell_type": "code",
   "execution_count": 146,
   "id": "c19a5804",
   "metadata": {},
   "outputs": [],
   "source": [
    "from selenium import webdriver\n",
    "from selenium.webdriver.common.by import By\n",
    "from time import sleep"
   ]
  },
  {
   "cell_type": "code",
   "execution_count": 147,
   "id": "be3df14b",
   "metadata": {},
   "outputs": [
    {
     "name": "stderr",
     "output_type": "stream",
     "text": [
      "C:\\Users\\vishw\\AppData\\Local\\Temp/ipykernel_4464/2764402569.py:7: DeprecationWarning: executable_path has been deprecated, please pass in a Service object\n",
      "  browser = webdriver.Chrome(DRIVER_PATH)\n"
     ]
    }
   ],
   "source": [
    "from selenium import webdriver\n",
    "\n",
    "# Define the path to the Chrome WebDriver executable\n",
    "DRIVER_PATH = r'C:\\Users\\vishw\\Downloads\\chromedriver-win64\\chromedriver-win64\\chromedriver.exe'\n",
    "\n",
    "# Initialize the Chrome WebDriver\n",
    "browser = webdriver.Chrome(DRIVER_PATH)"
   ]
  },
  {
   "cell_type": "code",
   "execution_count": 148,
   "id": "27ef8710",
   "metadata": {},
   "outputs": [],
   "source": [
    "# load the webpage\n",
    "browser.get('https://www.amazon.in')"
   ]
  },
  {
   "cell_type": "code",
   "execution_count": 149,
   "id": "cba3a1b7",
   "metadata": {},
   "outputs": [],
   "source": [
    "browser.maximize_window()"
   ]
  },
  {
   "cell_type": "code",
   "execution_count": 150,
   "id": "e19539cc",
   "metadata": {},
   "outputs": [],
   "source": [
    "# get the input elements\n",
    "input_search = browser.find_element(By.ID, 'twotabsearchtextbox')\n",
    "search_button = browser.find_element(By.XPATH, \"(//input[@type='submit'])[1]\")"
   ]
  },
  {
   "cell_type": "code",
   "execution_count": 151,
   "id": "d59b66e3",
   "metadata": {},
   "outputs": [],
   "source": [
    "# send the input to the webpage\n",
    "input_search.send_keys(\"Iphones\")\n",
    "sleep(1)\n",
    "search_button.click()"
   ]
  },
  {
   "cell_type": "code",
   "execution_count": 152,
   "id": "8e7ca33f",
   "metadata": {},
   "outputs": [
    {
     "name": "stdout",
     "output_type": "stream",
     "text": [
      "Scraping page 1\n",
      "<selenium.webdriver.remote.webelement.WebElement (session=\"45ab2ac5cdc60e561ef8f0074d89e8ef\", element=\"f.C6DE5BB51E25F2470FABD438AC0899E8.d.19A1A42EF16CD77C99B5C0010F60290A.e.427\")>\n",
      "<selenium.webdriver.remote.webelement.WebElement (session=\"45ab2ac5cdc60e561ef8f0074d89e8ef\", element=\"f.C6DE5BB51E25F2470FABD438AC0899E8.d.19A1A42EF16CD77C99B5C0010F60290A.e.428\")>\n",
      "<selenium.webdriver.remote.webelement.WebElement (session=\"45ab2ac5cdc60e561ef8f0074d89e8ef\", element=\"f.C6DE5BB51E25F2470FABD438AC0899E8.d.19A1A42EF16CD77C99B5C0010F60290A.e.429\")>\n",
      "<selenium.webdriver.remote.webelement.WebElement (session=\"45ab2ac5cdc60e561ef8f0074d89e8ef\", element=\"f.C6DE5BB51E25F2470FABD438AC0899E8.d.19A1A42EF16CD77C99B5C0010F60290A.e.430\")>\n",
      "<selenium.webdriver.remote.webelement.WebElement (session=\"45ab2ac5cdc60e561ef8f0074d89e8ef\", element=\"f.C6DE5BB51E25F2470FABD438AC0899E8.d.19A1A42EF16CD77C99B5C0010F60290A.e.431\")>\n",
      "<selenium.webdriver.remote.webelement.WebElement (session=\"45ab2ac5cdc60e561ef8f0074d89e8ef\", element=\"f.C6DE5BB51E25F2470FABD438AC0899E8.d.19A1A42EF16CD77C99B5C0010F60290A.e.432\")>\n",
      "<selenium.webdriver.remote.webelement.WebElement (session=\"45ab2ac5cdc60e561ef8f0074d89e8ef\", element=\"f.C6DE5BB51E25F2470FABD438AC0899E8.d.19A1A42EF16CD77C99B5C0010F60290A.e.433\")>\n",
      "<selenium.webdriver.remote.webelement.WebElement (session=\"45ab2ac5cdc60e561ef8f0074d89e8ef\", element=\"f.C6DE5BB51E25F2470FABD438AC0899E8.d.19A1A42EF16CD77C99B5C0010F60290A.e.434\")>\n",
      "<selenium.webdriver.remote.webelement.WebElement (session=\"45ab2ac5cdc60e561ef8f0074d89e8ef\", element=\"f.C6DE5BB51E25F2470FABD438AC0899E8.d.19A1A42EF16CD77C99B5C0010F60290A.e.435\")>\n",
      "<selenium.webdriver.remote.webelement.WebElement (session=\"45ab2ac5cdc60e561ef8f0074d89e8ef\", element=\"f.C6DE5BB51E25F2470FABD438AC0899E8.d.19A1A42EF16CD77C99B5C0010F60290A.e.436\")>\n",
      "<selenium.webdriver.remote.webelement.WebElement (session=\"45ab2ac5cdc60e561ef8f0074d89e8ef\", element=\"f.C6DE5BB51E25F2470FABD438AC0899E8.d.19A1A42EF16CD77C99B5C0010F60290A.e.437\")>\n",
      "<selenium.webdriver.remote.webelement.WebElement (session=\"45ab2ac5cdc60e561ef8f0074d89e8ef\", element=\"f.C6DE5BB51E25F2470FABD438AC0899E8.d.19A1A42EF16CD77C99B5C0010F60290A.e.438\")>\n",
      "<selenium.webdriver.remote.webelement.WebElement (session=\"45ab2ac5cdc60e561ef8f0074d89e8ef\", element=\"f.C6DE5BB51E25F2470FABD438AC0899E8.d.19A1A42EF16CD77C99B5C0010F60290A.e.439\")>\n",
      "<selenium.webdriver.remote.webelement.WebElement (session=\"45ab2ac5cdc60e561ef8f0074d89e8ef\", element=\"f.C6DE5BB51E25F2470FABD438AC0899E8.d.19A1A42EF16CD77C99B5C0010F60290A.e.440\")>\n",
      "<selenium.webdriver.remote.webelement.WebElement (session=\"45ab2ac5cdc60e561ef8f0074d89e8ef\", element=\"f.C6DE5BB51E25F2470FABD438AC0899E8.d.19A1A42EF16CD77C99B5C0010F60290A.e.441\")>\n",
      "<selenium.webdriver.remote.webelement.WebElement (session=\"45ab2ac5cdc60e561ef8f0074d89e8ef\", element=\"f.C6DE5BB51E25F2470FABD438AC0899E8.d.19A1A42EF16CD77C99B5C0010F60290A.e.442\")>\n",
      "<selenium.webdriver.remote.webelement.WebElement (session=\"45ab2ac5cdc60e561ef8f0074d89e8ef\", element=\"f.C6DE5BB51E25F2470FABD438AC0899E8.d.19A1A42EF16CD77C99B5C0010F60290A.e.443\")>\n"
     ]
    }
   ],
   "source": [
    "products = []\n",
    "prices=[]\n",
    "for i in range(1):\n",
    "    print('Scraping page', i+1)\n",
    "    product = browser.find_elements(By.XPATH, \"//span[@class='a-size-medium a-color-base a-text-normal']\")\n",
    "    price= browser.find_elements(By.XPATH, \"//span[@class='a-price-whole']\")\n",
    "    \n",
    "    for p in product:\n",
    "        products.append(p.text)\n",
    "    for pri in price:\n",
    "        print(pri)\n",
    "        prices.append(pri.text)\n",
    "    next_button = browser.find_element(By.XPATH, \"//a[text()='Next']\")\n",
    "    next_button.click()\n",
    "    sleep(2)\n",
    "    "
   ]
  },
  {
   "cell_type": "code",
   "execution_count": 153,
   "id": "0ea7156f",
   "metadata": {},
   "outputs": [
    {
     "name": "stdout",
     "output_type": "stream",
     "text": [
      "18\n",
      "17\n"
     ]
    }
   ],
   "source": [
    "print(len(products))\n",
    "print(len(prices))"
   ]
  },
  {
   "cell_type": "code",
   "execution_count": 137,
   "id": "318d9e4b",
   "metadata": {},
   "outputs": [
    {
     "data": {
      "text/plain": [
       "['Apple iPhone 15 (128 GB) - Black',\n",
       " 'Apple iPhone 14 (128 GB) - Blue',\n",
       " 'Apple iPhone 13 (128GB) - Blue',\n",
       " 'Apple iPhone 15 (128 GB) - Green',\n",
       " 'Apple iPhone 13 (128GB) - Midnight',\n",
       " 'Apple iPhone 15 (256 GB) - Green',\n",
       " 'Apple iPhone 15 (128 GB) - Blue',\n",
       " 'Apple iPhone 15 Pro Max (256 GB) - Blue Titanium',\n",
       " 'Apple iPhone 14 (128 GB) - Purple',\n",
       " 'Apple iPhone 15 Plus (128 GB) - Green',\n",
       " 'Apple iPhone 15 (128 GB) - Black',\n",
       " 'Apple iPhone 14 Plus (128 GB) - Midnight',\n",
       " 'Apple iPhone 14 (128 GB) - Midnight',\n",
       " 'Apple iPhone 14 (128 GB) - Starlight',\n",
       " 'Apple iPhone 15 (128 GB) - Yellow',\n",
       " 'Apple iPhone 13 (256GB) - Starlight',\n",
       " 'Apple iPhone 15 (128 GB) - Pink',\n",
       " 'Apple iPhone 14 (128 GB) - Blue']"
      ]
     },
     "execution_count": 137,
     "metadata": {},
     "output_type": "execute_result"
    }
   ],
   "source": [
    "products"
   ]
  },
  {
   "cell_type": "code",
   "execution_count": 138,
   "id": "afd23cb5",
   "metadata": {},
   "outputs": [
    {
     "data": {
      "text/plain": [
       "['73,100',\n",
       " '62,800',\n",
       " '73,100',\n",
       " '52,090',\n",
       " '82,600',\n",
       " '73,100',\n",
       " '1,48,900',\n",
       " '62,800',\n",
       " '82,600',\n",
       " '73,100',\n",
       " '72,200',\n",
       " '62,800',\n",
       " '62,800',\n",
       " '73,100',\n",
       " '62,490',\n",
       " '73,100',\n",
       " '62,800']"
      ]
     },
     "execution_count": 138,
     "metadata": {},
     "output_type": "execute_result"
    }
   ],
   "source": [
    "prices"
   ]
  },
  {
   "cell_type": "code",
   "execution_count": 70,
   "id": "635aaa50",
   "metadata": {},
   "outputs": [],
   "source": [
    "browser.quit()"
   ]
  },
  {
   "cell_type": "code",
   "execution_count": null,
   "id": "3911085a",
   "metadata": {},
   "outputs": [],
   "source": []
  }
 ],
 "metadata": {
  "kernelspec": {
   "display_name": "Python 3 (ipykernel)",
   "language": "python",
   "name": "python3"
  },
  "language_info": {
   "codemirror_mode": {
    "name": "ipython",
    "version": 3
   },
   "file_extension": ".py",
   "mimetype": "text/x-python",
   "name": "python",
   "nbconvert_exporter": "python",
   "pygments_lexer": "ipython3",
   "version": "3.9.7"
  }
 },
 "nbformat": 4,
 "nbformat_minor": 5
}

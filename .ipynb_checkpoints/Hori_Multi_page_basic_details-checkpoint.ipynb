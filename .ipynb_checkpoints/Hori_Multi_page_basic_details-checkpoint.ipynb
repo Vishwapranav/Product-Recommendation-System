{
 "cells": [
  {
   "cell_type": "code",
   "execution_count": 28,
   "id": "d0219b42",
   "metadata": {},
   "outputs": [],
   "source": [
    "from selenium import webdriver\n",
    "from selenium.webdriver.common.by import By\n",
    "from time import sleep\n",
    "from selenium.webdriver.chrome.service import Service\n",
    "from selenium.webdriver.support.ui import WebDriverWait as wait\n",
    "from selenium.webdriver.support import expected_conditions as EC\n"
   ]
  },
  {
   "cell_type": "code",
   "execution_count": 29,
   "id": "61e70259",
   "metadata": {},
   "outputs": [
    {
     "name": "stderr",
     "output_type": "stream",
     "text": [
      "C:\\Users\\vishw\\AppData\\Local\\Temp/ipykernel_8640/2764402569.py:7: DeprecationWarning: executable_path has been deprecated, please pass in a Service object\n",
      "  browser = webdriver.Chrome(DRIVER_PATH)\n"
     ]
    }
   ],
   "source": [
    "from selenium import webdriver\n",
    "\n",
    "# Define the path to the Chrome WebDriver executable\n",
    "DRIVER_PATH = r'C:\\Users\\vishw\\Downloads\\chromedriver-win64\\chromedriver-win64\\chromedriver.exe'\n",
    "\n",
    "# Initialize the Chrome WebDriver\n",
    "browser = webdriver.Chrome(DRIVER_PATH)"
   ]
  },
  {
   "cell_type": "code",
   "execution_count": 30,
   "id": "c54fe8e5",
   "metadata": {},
   "outputs": [],
   "source": [
    "# load the webpage\n",
    "browser.get('https://www.amazon.in')"
   ]
  },
  {
   "cell_type": "code",
   "execution_count": 31,
   "id": "8a6c3f14",
   "metadata": {},
   "outputs": [],
   "source": [
    "browser.maximize_window()"
   ]
  },
  {
   "cell_type": "code",
   "execution_count": 32,
   "id": "64434803",
   "metadata": {},
   "outputs": [],
   "source": [
    "# get the input elements\n",
    "\n",
    "input_search = browser.find_element(By.ID, 'twotabsearchtextbox')\n",
    "search_button = browser.find_element(By.XPATH, \"(//input[@type='submit'])[1]\")"
   ]
  },
  {
   "cell_type": "code",
   "execution_count": 33,
   "id": "3b36c3d7",
   "metadata": {},
   "outputs": [],
   "source": [
    "# send the input to the webpage\n",
    "search=\"cameras\"\n",
    "input_search.send_keys(search)\n",
    "sleep(1)\n",
    "search_button.click()"
   ]
  },
  {
   "cell_type": "code",
   "execution_count": 34,
   "id": "16806151",
   "metadata": {},
   "outputs": [
    {
     "name": "stdout",
     "output_type": "stream",
     "text": [
      "Scraping page 1\n",
      "Search started!\n"
     ]
    }
   ],
   "source": [
    "\n",
    "product_asin = []\n",
    "product_name = []\n",
    "product_price = []\n",
    "product_ratings = []\n",
    "product_ratings_num = []\n",
    "product_link = []\n",
    "number_of_pages=1\n",
    "\n",
    "for i in range(number_of_pages):\n",
    "    print('Scraping page', i+1)\n",
    "    print(\"Search started!\")\n",
    "    items = wait(browser, 10).until(EC.presence_of_all_elements_located((By.XPATH, '//div[contains(@class, \"s-result-item s-asin\")]')))\n",
    "\n",
    "    for item in items:\n",
    "        # find name\n",
    "        name = item.find_element(By.XPATH, './/span[@class=\"a-size-medium a-color-base a-text-normal\"]')\n",
    "        product_name.append(name.text)\n",
    "        # find ASIN number \n",
    "        data_asin = item.get_attribute(\"data-asin\")\n",
    "        product_asin.append(data_asin)\n",
    "    \n",
    "\n",
    "         # find price\n",
    "   \n",
    "        if item.find_elements(By.XPATH, './/span[@class=\"a-price-whole\"]')!=[]:\n",
    "          whole_price=item.find_elements(By.XPATH, './/span[@class=\"a-price-whole\"]')[0].text\n",
    "        else:\n",
    "            whole_price=0;\n",
    "        product_price.append(whole_price)\n",
    "\n",
    "\n",
    "        # find ratings box\n",
    "        ratings_box = item.find_elements(By.XPATH, './/div[@class=\"a-row a-size-small\"]/span')\n",
    "        # find ratings and ratings_num\n",
    "        if ratings_box != []:\n",
    "            ratings = ratings_box[0].get_attribute('aria-label')\n",
    "            ratings_num = ratings_box[1].get_attribute('aria-label')\n",
    "        else:\n",
    "            ratings, ratings_num = 0, 0\n",
    "    \n",
    "        product_ratings.append(ratings)\n",
    "        product_ratings_num.append(str(ratings_num))\n",
    "    \n",
    "\n",
    "          # find link\n",
    "        link = item.find_element(By.XPATH, './/a[@class=\"a-link-normal s-underline-text s-underline-link-text s-link-style a-text-normal\"]').get_attribute(\"href\")\n",
    "        product_link.append(link)\n",
    "    \n",
    "    next_button = browser.find_element(By.XPATH, \"//a[text()='Next']\")\n",
    "    next_button.click()\n",
    "    sleep(2)\n",
    "browser.quit()\n"
   ]
  },
  {
   "cell_type": "code",
   "execution_count": 35,
   "id": "9a8e229c",
   "metadata": {},
   "outputs": [
    {
     "name": "stdout",
     "output_type": "stream",
     "text": [
      "22\n",
      "22\n",
      "22\n",
      "22\n",
      "22\n"
     ]
    }
   ],
   "source": [
    "print(len(product_name))\n",
    "# print(product_asin)\n",
    "print(len(product_price))\n",
    "print(len(product_ratings))\n",
    "print(len(product_ratings_num))\n",
    "print(len(product_link))"
   ]
  },
  {
   "cell_type": "code",
   "execution_count": 36,
   "id": "8cf81b29",
   "metadata": {},
   "outputs": [
    {
     "name": "stdout",
     "output_type": "stream",
     "text": [
      "['CP PLUS 2MP Smart Wi-fi CCTV Camera | 360° & Full HD Home Security | Full Color Night Vision | 2-Way Talk | Advanced Motion Tracking | SD Card Support (Upto 256GB) | IR Distance 20Mtr | EZ-P21', 'Qubo Smart 360 3MP 1296p WiFi CCTV Security Camera for Home from Hero Group | Mobile App | 2 Way Talk | Night Vision | Cloud & SD Card Recording | Made in India | Alexa & OK Google | 2024 New Launch |', 'Tapo TP-Link C200 360° 2MP 1080p Full HD Pan/Tilt Home Security Wi-Fi Smart Camera| Alexa Enabled| 2-Way Audio| Night Vision| Motion Detection| Sound and Light Alarm| Indoor CCTV White', 'Xiaomi MI Wireless Home Security Camera 2i | Full HD Picture | 360 View | 2MP CCTV | AI Powered Motion Detection | Enhanced Night Vision| Talk Back Feature (2 Way Calling), 1080p, White', 'Xiaomi 360 Home Security Wireless Camera 2K Pro with Bluetooth Gateway BLE 4.2 l Dual Band Wi-fi Connection l 3 Million HD 1296p| 3MP CCTV |Full Color in Low-Light | AI Human Detection, White', 'Fujifilm Instax Mini 12 Instant Camera-Green', 'Fujifilm Instax Mini 12 Instant Camera-Pink', 'CP PLUS 3 MP Full HD Smart Wi-fi CCTV Camera | 360° Pan & Tilt | View & Talk | Motion Alert | Night Vision | SD Card (Up to 128 GB) | Alexa & OK Google | 2-Way Talk | IR Distance 10Mtr | CP-E35A', 'TECHNOVIEW 1080P Mini Spy Camera with Low Light Vision, Vidio Audio Recording, for Home Indoor Outdoor Security (Red)', 'CP PLUS 2MP Full HD Smart Wi-Fi CCTV Home Security Camera | 360° with Pan Tilt | View & Talk | Motion Alert | Night Vision | SD Card (Upto 128 GB), Alexa & Google Support | IR Distance 10mtr | CP-E25A', 'PHILIPS 3MP Wi-Fi CCTV HSP3500 Indoor 360° Security Camera | 2K(1296p) Resolution | Pan, Tilt & Zoom | 2 Way Talk | Motion & Sound Detect | 2 Year Brand Replacement Warranty', 'BEEBIRD 4K Action Camera- Underwater Camera IPX8 Waterproof, 170-Degree Wide-Angle Lens, EIS, Wi-Fi and Remote Control, Perfect for Scuba Diving, Snorkeling, and Vlogging', 'DJI Action 2 Power Combo -12MP Action Camera with Power Module,4K Recording Upto 120 FPS& 155° FOV, Portable& Wearable, HorizonSteady,10m Waterproof, Black', 'TECHNOVIEW Spy 1080P Full Hd Pen Camera Hidden 100 Minutes Pen Battery Life Pocket Security Indoor Outdoor Body Camera with Video Audio Recording Secret Pen Recorder with Free OTG Cable', 'CP PLUS 2.4MP IR Bullet Outdoor Security Camera | 3.6mm Fixed Lens | Max 25/30fps at 2.4MP | DWDR, Day/Night (ICR) | IR Range of 20 Mtrs., Smart IR | Support Built-in Mic - CP-URC-TC24PL2C-V3', 'Panasonic LUMIX G7 16.00 MP 4K Mirrorless Interchangeable Lens Camera Kit with 14-42 mm Lens (Black) with 3x Optical Zoom', 'Tapo TP-Link C210 360° 3MP Full HD 2304 X 1296P Video Pan/Tilt Smart Wi-Fi Security Camera | Alexa Enabled | 2-Way Audio| Night Vision| Motion Detection | Indoor CCTV White', 'IMOU 360° 1080P Full HD Security Camera, Human Detection, Motion Tracking, 2-Way Audio, Night Vision, Dome Camera with WiFi & Ethernet Connection, Alexa Google Assistant, Up to 256GB SD Card Support', 'New IZI Click 50 MP Action Camera,5K Recording,30 FPS & 170° HD Wide Angle, Anti-shake EIS, MotoVlog, YT, Live Stream, 110ft Waterproof, Type-C Mic Support, Accessory Kit, 2 X 950 MAh Battery Included', 'Trueview 2MP Smart CCTV Wi-fi Home Security Camera, 360° View, 2 Way Talk, Cloud Monitor, Motion Detect, Supports SD Card Up to 256 GB, Night Vision, Alexa & Ok Google', 'V88R® 16MP 4K HD Digital Action Camera Supports HDMI & Wi-Fi Camera for Photography Wide Angle Display Vlogging Camera Waterproof up to 30m WiFi Sports Camera', 'CUTECH Wi-Fi Full Ultra HD CCTV Wireless Bulb Shape Camera 1080p V380 Pro Indoor 360° Smart Home Security Camera 24x7 Continuous Recording with Motion Sensor']\n",
      "['949', '1,890', '1,899', '2,497', '3,999', '7,499', '7,499', '1,499', '999', '1,249', '2,799', '7,499', '15,990', '1,999', '899', '42,490', '2,199', '1,849', '5,999', '999', '2,199', '1,299']\n",
      "[0, '4.5 out of 5 stars', '4.3 out of 5 stars', '4.1 out of 5 stars', '4.1 out of 5 stars', '4.2 out of 5 stars', '4.2 out of 5 stars', '3.8 out of 5 stars', '3.7 out of 5 stars', '3.8 out of 5 stars', '3.7 out of 5 stars', 0, '4.0 out of 5 stars', '4.3 out of 5 stars', '3.6 out of 5 stars', '4.3 out of 5 stars', '4.2 out of 5 stars', '4.1 out of 5 stars', '3.4 out of 5 stars', '4.2 out of 5 stars', '2.2 out of 5 stars', '4.1 out of 5 stars']\n",
      "['0', '577 ratings', '111,161 ratings', '5,995 ratings', '2,743 ratings', '1,785 ratings', '1,785 ratings', '5,713 ratings', '470 ratings', '7,238 ratings', '1,167 ratings', '0', '2,250 ratings', '726 ratings', '111 ratings', '816 ratings', '21,599 ratings', '5,257 ratings', '516 ratings', '20 ratings', '34 ratings', '59 ratings']\n"
     ]
    }
   ],
   "source": [
    "print(product_name)\n",
    "# print(product_asin)\n",
    "print(product_price)\n",
    "print(product_ratings)\n",
    "print(product_ratings_num)\n"
   ]
  },
  {
   "cell_type": "code",
   "execution_count": null,
   "id": "8b70790c",
   "metadata": {},
   "outputs": [],
   "source": []
  }
 ],
 "metadata": {
  "kernelspec": {
   "display_name": "Python 3 (ipykernel)",
   "language": "python",
   "name": "python3"
  },
  "language_info": {
   "codemirror_mode": {
    "name": "ipython",
    "version": 3
   },
   "file_extension": ".py",
   "mimetype": "text/x-python",
   "name": "python",
   "nbconvert_exporter": "python",
   "pygments_lexer": "ipython3",
   "version": "3.9.7"
  }
 },
 "nbformat": 4,
 "nbformat_minor": 5
}

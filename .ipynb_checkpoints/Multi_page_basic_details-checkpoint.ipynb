{
 "cells": [
  {
   "cell_type": "code",
   "execution_count": 8,
   "id": "d0219b42",
   "metadata": {},
   "outputs": [],
   "source": [
    "from selenium import webdriver\n",
    "from selenium.webdriver.common.by import By\n",
    "from time import sleep\n",
    "from selenium.webdriver.chrome.service import Service\n",
    "from selenium.webdriver.support.ui import WebDriverWait as wait\n",
    "from selenium.webdriver.support import expected_conditions as EC\n"
   ]
  },
  {
   "cell_type": "code",
   "execution_count": 9,
   "id": "61e70259",
   "metadata": {},
   "outputs": [
    {
     "name": "stderr",
     "output_type": "stream",
     "text": [
      "C:\\Users\\vishw\\AppData\\Local\\Temp/ipykernel_19904/2764402569.py:7: DeprecationWarning: executable_path has been deprecated, please pass in a Service object\n",
      "  browser = webdriver.Chrome(DRIVER_PATH)\n"
     ]
    }
   ],
   "source": [
    "from selenium import webdriver\n",
    "\n",
    "# Define the path to the Chrome WebDriver executable\n",
    "DRIVER_PATH = r'C:\\Users\\vishw\\Downloads\\chromedriver-win64\\chromedriver-win64\\chromedriver.exe'\n",
    "\n",
    "# Initialize the Chrome WebDriver\n",
    "browser = webdriver.Chrome(DRIVER_PATH)"
   ]
  },
  {
   "cell_type": "code",
   "execution_count": 10,
   "id": "c54fe8e5",
   "metadata": {},
   "outputs": [],
   "source": [
    "# load the webpage\n",
    "browser.get('https://www.amazon.in')"
   ]
  },
  {
   "cell_type": "code",
   "execution_count": 11,
   "id": "8a6c3f14",
   "metadata": {},
   "outputs": [],
   "source": [
    "browser.maximize_window()"
   ]
  },
  {
   "cell_type": "code",
   "execution_count": 12,
   "id": "64434803",
   "metadata": {},
   "outputs": [],
   "source": [
    "# get the input elements\n",
    "\n",
    "input_search = browser.find_element(By.ID, 'twotabsearchtextbox')\n",
    "search_button = browser.find_element(By.XPATH, \"(//input[@type='submit'])[1]\")"
   ]
  },
  {
   "cell_type": "code",
   "execution_count": 13,
   "id": "3b36c3d7",
   "metadata": {},
   "outputs": [],
   "source": [
    "# send the input to the webpage\n",
    "search=\"redmi phones\"\n",
    "input_search.send_keys(search)\n",
    "sleep(1)\n",
    "search_button.click()"
   ]
  },
  {
   "cell_type": "code",
   "execution_count": 14,
   "id": "16806151",
   "metadata": {},
   "outputs": [
    {
     "name": "stdout",
     "output_type": "stream",
     "text": [
      "Scraping page 1\n",
      "Search started!\n"
     ]
    }
   ],
   "source": [
    "\n",
    "product_asin = []\n",
    "product_name = []\n",
    "product_price = []\n",
    "product_ratings = []\n",
    "product_ratings_num = []\n",
    "product_link = []\n",
    "number_of_pages=1\n",
    "\n",
    "for i in range(number_of_pages):\n",
    "    print('Scraping page', i+1)\n",
    "    print(\"Search started!\")\n",
    "    items = wait(browser, 10).until(EC.presence_of_all_elements_located((By.XPATH, '//div[contains(@class, \"s-result-item s-asin\")]')))\n",
    "\n",
    "    for item in items:\n",
    "        # find name\n",
    "        name = item.find_element(By.XPATH, './/span[@class=\"a-size-medium a-color-base a-text-normal\"]')\n",
    "        product_name.append(name.text)\n",
    "        # find ASIN number \n",
    "        data_asin = item.get_attribute(\"data-asin\")\n",
    "        product_asin.append(data_asin)\n",
    "    \n",
    "\n",
    "         # find price\n",
    "   \n",
    "        if item.find_elements(By.XPATH, './/span[@class=\"a-price-whole\"]')!=[]:\n",
    "          whole_price=item.find_elements(By.XPATH, './/span[@class=\"a-price-whole\"]')[0].text\n",
    "        else:\n",
    "            whole_price=0;\n",
    "        product_price.append(whole_price)\n",
    "\n",
    "\n",
    "        # find ratings box\n",
    "        ratings_box = item.find_elements(By.XPATH, './/div[@class=\"a-row a-size-small\"]/span')\n",
    "        # find ratings and ratings_num\n",
    "        if ratings_box != []:\n",
    "            ratings = ratings_box[0].get_attribute('aria-label')\n",
    "            ratings_num = ratings_box[1].get_attribute('aria-label')\n",
    "        else:\n",
    "            ratings, ratings_num = 0, 0\n",
    "    \n",
    "        product_ratings.append(ratings)\n",
    "        product_ratings_num.append(str(ratings_num))\n",
    "    \n",
    "\n",
    "          # find link\n",
    "        link = item.find_element(By.XPATH, './/a[@class=\"a-link-normal s-underline-text s-underline-link-text s-link-style a-text-normal\"]').get_attribute(\"href\")\n",
    "        product_link.append(link)\n",
    "    \n",
    "    next_button = browser.find_element(By.XPATH, \"//a[text()='Next']\")\n",
    "    next_button.click()\n",
    "    sleep(2)\n",
    "browser.quit()\n"
   ]
  },
  {
   "cell_type": "code",
   "execution_count": 15,
   "id": "9a8e229c",
   "metadata": {},
   "outputs": [
    {
     "name": "stdout",
     "output_type": "stream",
     "text": [
      "18\n",
      "18\n",
      "18\n",
      "18\n",
      "18\n"
     ]
    }
   ],
   "source": [
    "print(len(product_name))\n",
    "# print(product_asin)\n",
    "print(len(product_price))\n",
    "print(len(product_ratings))\n",
    "print(len(product_ratings_num))\n",
    "print(len(product_link))"
   ]
  },
  {
   "cell_type": "code",
   "execution_count": 16,
   "id": "8cf81b29",
   "metadata": {},
   "outputs": [
    {
     "name": "stdout",
     "output_type": "stream",
     "text": [
      "['Apple iPhone 15 (128 GB) - Black', 'Apple iPhone 13 (128GB) - Blue', 'Apple iPhone 13 (128GB) - Midnight', 'Apple iPhone 13 (128GB) - Blue', 'Apple iPhone 15 (128 GB) - Green', 'Apple iPhone 13 (128GB) - Starlight', 'Apple iPhone 15 (128 GB) - Blue', 'Apple iPhone 15 Pro (256 GB) - Natural Titanium', 'Apple iPhone 15 (256 GB) - Green', 'Apple iPhone 15 Pro Max (256 GB) - Blue Titanium', 'Apple iPhone 13 (256GB) - Midnight', 'Apple iPhone 14 (128 GB) - Purple', 'Apple iPhone 15 (256 GB) - Black', 'Apple iPhone 15 Pro (256 GB) - Blue Titanium', 'Apple iPhone 14 Plus (128 GB) - Starlight', 'Apple iPhone 15 Plus (128 GB) - Green', 'Apple iPhone 15 (128 GB) - Black', 'Apple iPhone 14 Plus (128 GB) - Midnight']\n",
      "['73,100', '52,090', '52,090', '52,090', '73,100', '52,090', '73,100', '1,37,990', '82,600', '1,48,900', '62,490', '62,800', '82,600', '1,37,990', '72,200', '82,600', '73,100', '72,200']\n",
      "['4.5 out of 5 stars', '4.6 out of 5 stars', '4.6 out of 5 stars', '4.6 out of 5 stars', '4.5 out of 5 stars', '4.6 out of 5 stars', '4.5 out of 5 stars', '4.2 out of 5 stars', '4.5 out of 5 stars', '4.5 out of 5 stars', '4.6 out of 5 stars', '4.5 out of 5 stars', '4.5 out of 5 stars', '4.2 out of 5 stars', '4.5 out of 5 stars', '4.6 out of 5 stars', '4.5 out of 5 stars', '4.5 out of 5 stars']\n",
      "['1,071 ratings', '25,989 ratings', '25,989 ratings', '25,989 ratings', '1,071 ratings', '25,989 ratings', '1,071 ratings', '200 ratings', '1,071 ratings', '219 ratings', '25,989 ratings', '4,900 ratings', '1,071 ratings', '200 ratings', '1,807 ratings', '530 ratings', '1,071 ratings', '1,807 ratings']\n",
      "['https://www.amazon.in/sspa/click?ie=UTF8&spc=MTo0NTIxNjkxOTQ0MzIwMTAyOjE3MTI5MjYzMDM6c3BfYXRmOjMwMDA1NDM0NTk0NzYzMjo6MDo6&url=%2FApple-iPhone-15-128-GB%2Fdp%2FB0CHX1W1XY%2Fref%3Dsr_1_1_sspa%3Fcrid%3DYJHK4Q2L1Q93%26dib%3DeyJ2IjoiMSJ9.8h9A_YSPiLCsRbGj7EQ9turOxBFzCusupfET52Xzc5IiL7KG5btRCx614LrVotdyhvbGYsynhB8KU8K4uiLP7rWcgm3v6riTOjLsQJ8kI94wFFTOu-P2SxvUm9HVaQy3TZwLwMig7_zExjXN98cZWvZEmcuyTt8c3-zmohu2-zK5FvN-U8FyY2cTPU3c6eCwJ0RBjFuiG5BpzmWz05HBj-diEiUpjaGUeUgiR3MOc-A._IIcK_M08idNougm13jiCKU4ZGt12FSz9xM0UHycqpg%26dib_tag%3Dse%26keywords%3Diphone%26qid%3D1712926303%26sprefix%3Diphones%252Caps%252C214%26sr%3D8-1-spons%26sp_csd%3Dd2lkZ2V0TmFtZT1zcF9hdGY%26psc%3D1', 'https://www.amazon.in/sspa/click?ie=UTF8&spc=MTo0NTIxNjkxOTQ0MzIwMTAyOjE3MTI5MjYzMDM6c3BfYXRmOjIwMDc0MjM0NjExMzAzOjowOjo&url=%2FApple-iPhone-13-128GB-Blue%2Fdp%2FB09G9BL5CP%2Fref%3Dsr_1_2_sspa%3Fcrid%3DYJHK4Q2L1Q93%26dib%3DeyJ2IjoiMSJ9.8h9A_YSPiLCsRbGj7EQ9turOxBFzCusupfET52Xzc5IiL7KG5btRCx614LrVotdyhvbGYsynhB8KU8K4uiLP7rWcgm3v6riTOjLsQJ8kI94wFFTOu-P2SxvUm9HVaQy3TZwLwMig7_zExjXN98cZWvZEmcuyTt8c3-zmohu2-zK5FvN-U8FyY2cTPU3c6eCwJ0RBjFuiG5BpzmWz05HBj-diEiUpjaGUeUgiR3MOc-A._IIcK_M08idNougm13jiCKU4ZGt12FSz9xM0UHycqpg%26dib_tag%3Dse%26keywords%3Diphone%26qid%3D1712926303%26sprefix%3Diphones%252Caps%252C214%26sr%3D8-2-spons%26sp_csd%3Dd2lkZ2V0TmFtZT1zcF9hdGY%26psc%3D1', 'https://www.amazon.in/Apple-iPhone-13-128GB-Midnight/dp/B09G9HD6PD/ref=sr_1_3?crid=YJHK4Q2L1Q93&dib=eyJ2IjoiMSJ9.8h9A_YSPiLCsRbGj7EQ9turOxBFzCusupfET52Xzc5IiL7KG5btRCx614LrVotdyhvbGYsynhB8KU8K4uiLP7rWcgm3v6riTOjLsQJ8kI94wFFTOu-P2SxvUm9HVaQy3TZwLwMig7_zExjXN98cZWvZEmcuyTt8c3-zmohu2-zK5FvN-U8FyY2cTPU3c6eCwJ0RBjFuiG5BpzmWz05HBj-diEiUpjaGUeUgiR3MOc-A._IIcK_M08idNougm13jiCKU4ZGt12FSz9xM0UHycqpg&dib_tag=se&keywords=iphone&qid=1712926303&sprefix=iphones%2Caps%2C214&sr=8-3', 'https://www.amazon.in/Apple-iPhone-13-128GB-Blue/dp/B09G9BL5CP/ref=sr_1_4?crid=YJHK4Q2L1Q93&dib=eyJ2IjoiMSJ9.8h9A_YSPiLCsRbGj7EQ9turOxBFzCusupfET52Xzc5IiL7KG5btRCx614LrVotdyhvbGYsynhB8KU8K4uiLP7rWcgm3v6riTOjLsQJ8kI94wFFTOu-P2SxvUm9HVaQy3TZwLwMig7_zExjXN98cZWvZEmcuyTt8c3-zmohu2-zK5FvN-U8FyY2cTPU3c6eCwJ0RBjFuiG5BpzmWz05HBj-diEiUpjaGUeUgiR3MOc-A._IIcK_M08idNougm13jiCKU4ZGt12FSz9xM0UHycqpg&dib_tag=se&keywords=iphone&qid=1712926303&sprefix=iphones%2Caps%2C214&sr=8-4', 'https://www.amazon.in/Apple-iPhone-15-128-GB/dp/B0CHX6NQMD/ref=sr_1_5?crid=YJHK4Q2L1Q93&dib=eyJ2IjoiMSJ9.8h9A_YSPiLCsRbGj7EQ9turOxBFzCusupfET52Xzc5IiL7KG5btRCx614LrVotdyhvbGYsynhB8KU8K4uiLP7rWcgm3v6riTOjLsQJ8kI94wFFTOu-P2SxvUm9HVaQy3TZwLwMig7_zExjXN98cZWvZEmcuyTt8c3-zmohu2-zK5FvN-U8FyY2cTPU3c6eCwJ0RBjFuiG5BpzmWz05HBj-diEiUpjaGUeUgiR3MOc-A._IIcK_M08idNougm13jiCKU4ZGt12FSz9xM0UHycqpg&dib_tag=se&keywords=iphone&qid=1712926303&sprefix=iphones%2Caps%2C214&sr=8-5', 'https://www.amazon.in/Apple-iPhone-13-128GB-Starlight/dp/B09G9D8KRQ/ref=sr_1_6?crid=YJHK4Q2L1Q93&dib=eyJ2IjoiMSJ9.8h9A_YSPiLCsRbGj7EQ9turOxBFzCusupfET52Xzc5IiL7KG5btRCx614LrVotdyhvbGYsynhB8KU8K4uiLP7rWcgm3v6riTOjLsQJ8kI94wFFTOu-P2SxvUm9HVaQy3TZwLwMig7_zExjXN98cZWvZEmcuyTt8c3-zmohu2-zK5FvN-U8FyY2cTPU3c6eCwJ0RBjFuiG5BpzmWz05HBj-diEiUpjaGUeUgiR3MOc-A._IIcK_M08idNougm13jiCKU4ZGt12FSz9xM0UHycqpg&dib_tag=se&keywords=iphone&qid=1712926303&sprefix=iphones%2Caps%2C214&sr=8-6', 'https://www.amazon.in/Apple-iPhone-15-128-GB/dp/B0CHX2F5QT/ref=sr_1_7?crid=YJHK4Q2L1Q93&dib=eyJ2IjoiMSJ9.8h9A_YSPiLCsRbGj7EQ9turOxBFzCusupfET52Xzc5IiL7KG5btRCx614LrVotdyhvbGYsynhB8KU8K4uiLP7rWcgm3v6riTOjLsQJ8kI94wFFTOu-P2SxvUm9HVaQy3TZwLwMig7_zExjXN98cZWvZEmcuyTt8c3-zmohu2-zK5FvN-U8FyY2cTPU3c6eCwJ0RBjFuiG5BpzmWz05HBj-diEiUpjaGUeUgiR3MOc-A._IIcK_M08idNougm13jiCKU4ZGt12FSz9xM0UHycqpg&dib_tag=se&keywords=iphone&qid=1712926303&sprefix=iphones%2Caps%2C214&sr=8-7', 'https://www.amazon.in/Apple-iPhone-15-Pro-256/dp/B0CHX5J2ND/ref=sr_1_8?crid=YJHK4Q2L1Q93&dib=eyJ2IjoiMSJ9.8h9A_YSPiLCsRbGj7EQ9turOxBFzCusupfET52Xzc5IiL7KG5btRCx614LrVotdyhvbGYsynhB8KU8K4uiLP7rWcgm3v6riTOjLsQJ8kI94wFFTOu-P2SxvUm9HVaQy3TZwLwMig7_zExjXN98cZWvZEmcuyTt8c3-zmohu2-zK5FvN-U8FyY2cTPU3c6eCwJ0RBjFuiG5BpzmWz05HBj-diEiUpjaGUeUgiR3MOc-A._IIcK_M08idNougm13jiCKU4ZGt12FSz9xM0UHycqpg&dib_tag=se&keywords=iphone&qid=1712926303&sprefix=iphones%2Caps%2C214&sr=8-8', 'https://www.amazon.in/Apple-iPhone-15-256-GB/dp/B0CHX41VNZ/ref=sr_1_9?crid=YJHK4Q2L1Q93&dib=eyJ2IjoiMSJ9.8h9A_YSPiLCsRbGj7EQ9turOxBFzCusupfET52Xzc5IiL7KG5btRCx614LrVotdyhvbGYsynhB8KU8K4uiLP7rWcgm3v6riTOjLsQJ8kI94wFFTOu-P2SxvUm9HVaQy3TZwLwMig7_zExjXN98cZWvZEmcuyTt8c3-zmohu2-zK5FvN-U8FyY2cTPU3c6eCwJ0RBjFuiG5BpzmWz05HBj-diEiUpjaGUeUgiR3MOc-A._IIcK_M08idNougm13jiCKU4ZGt12FSz9xM0UHycqpg&dib_tag=se&keywords=iphone&qid=1712926303&sprefix=iphones%2Caps%2C214&sr=8-9', 'https://www.amazon.in/Apple-iPhone-Pro-Max-256/dp/B0CHX1K2ZC/ref=sr_1_10?crid=YJHK4Q2L1Q93&dib=eyJ2IjoiMSJ9.8h9A_YSPiLCsRbGj7EQ9turOxBFzCusupfET52Xzc5IiL7KG5btRCx614LrVotdyhvbGYsynhB8KU8K4uiLP7rWcgm3v6riTOjLsQJ8kI94wFFTOu-P2SxvUm9HVaQy3TZwLwMig7_zExjXN98cZWvZEmcuyTt8c3-zmohu2-zK5FvN-U8FyY2cTPU3c6eCwJ0RBjFuiG5BpzmWz05HBj-diEiUpjaGUeUgiR3MOc-A._IIcK_M08idNougm13jiCKU4ZGt12FSz9xM0UHycqpg&dib_tag=se&keywords=iphone&qid=1712926303&sprefix=iphones%2Caps%2C214&sr=8-10', 'https://www.amazon.in/Apple-iPhone-13-256GB-Midnight/dp/B09G9BQS98/ref=sr_1_11?crid=YJHK4Q2L1Q93&dib=eyJ2IjoiMSJ9.8h9A_YSPiLCsRbGj7EQ9turOxBFzCusupfET52Xzc5IiL7KG5btRCx614LrVotdyhvbGYsynhB8KU8K4uiLP7rWcgm3v6riTOjLsQJ8kI94wFFTOu-P2SxvUm9HVaQy3TZwLwMig7_zExjXN98cZWvZEmcuyTt8c3-zmohu2-zK5FvN-U8FyY2cTPU3c6eCwJ0RBjFuiG5BpzmWz05HBj-diEiUpjaGUeUgiR3MOc-A._IIcK_M08idNougm13jiCKU4ZGt12FSz9xM0UHycqpg&dib_tag=se&keywords=iphone&qid=1712926303&sprefix=iphones%2Caps%2C214&sr=8-11', 'https://www.amazon.in/Apple-iPhone-14-128GB-Purple/dp/B0BDJ213TX/ref=sr_1_12?crid=YJHK4Q2L1Q93&dib=eyJ2IjoiMSJ9.8h9A_YSPiLCsRbGj7EQ9turOxBFzCusupfET52Xzc5IiL7KG5btRCx614LrVotdyhvbGYsynhB8KU8K4uiLP7rWcgm3v6riTOjLsQJ8kI94wFFTOu-P2SxvUm9HVaQy3TZwLwMig7_zExjXN98cZWvZEmcuyTt8c3-zmohu2-zK5FvN-U8FyY2cTPU3c6eCwJ0RBjFuiG5BpzmWz05HBj-diEiUpjaGUeUgiR3MOc-A._IIcK_M08idNougm13jiCKU4ZGt12FSz9xM0UHycqpg&dib_tag=se&keywords=iphone&qid=1712926303&sprefix=iphones%2Caps%2C214&sr=8-12', 'https://www.amazon.in/Apple-iPhone-15-256-GB/dp/B0CHX2WQLX/ref=sr_1_13?crid=YJHK4Q2L1Q93&dib=eyJ2IjoiMSJ9.8h9A_YSPiLCsRbGj7EQ9turOxBFzCusupfET52Xzc5IiL7KG5btRCx614LrVotdyhvbGYsynhB8KU8K4uiLP7rWcgm3v6riTOjLsQJ8kI94wFFTOu-P2SxvUm9HVaQy3TZwLwMig7_zExjXN98cZWvZEmcuyTt8c3-zmohu2-zK5FvN-U8FyY2cTPU3c6eCwJ0RBjFuiG5BpzmWz05HBj-diEiUpjaGUeUgiR3MOc-A._IIcK_M08idNougm13jiCKU4ZGt12FSz9xM0UHycqpg&dib_tag=se&keywords=iphone&qid=1712926303&sprefix=iphones%2Caps%2C214&sr=8-13', 'https://www.amazon.in/Apple-iPhone-15-Pro-256/dp/B0CHWZ86W2/ref=sr_1_14?crid=YJHK4Q2L1Q93&dib=eyJ2IjoiMSJ9.8h9A_YSPiLCsRbGj7EQ9turOxBFzCusupfET52Xzc5IiL7KG5btRCx614LrVotdyhvbGYsynhB8KU8K4uiLP7rWcgm3v6riTOjLsQJ8kI94wFFTOu-P2SxvUm9HVaQy3TZwLwMig7_zExjXN98cZWvZEmcuyTt8c3-zmohu2-zK5FvN-U8FyY2cTPU3c6eCwJ0RBjFuiG5BpzmWz05HBj-diEiUpjaGUeUgiR3MOc-A._IIcK_M08idNougm13jiCKU4ZGt12FSz9xM0UHycqpg&dib_tag=se&keywords=iphone&qid=1712926303&sprefix=iphones%2Caps%2C214&sr=8-14', 'https://www.amazon.in/Apple-iPhone-Plus-128GB-Starlight/dp/B0BDJFTGK6/ref=sr_1_15?crid=YJHK4Q2L1Q93&dib=eyJ2IjoiMSJ9.8h9A_YSPiLCsRbGj7EQ9turOxBFzCusupfET52Xzc5IiL7KG5btRCx614LrVotdyhvbGYsynhB8KU8K4uiLP7rWcgm3v6riTOjLsQJ8kI94wFFTOu-P2SxvUm9HVaQy3TZwLwMig7_zExjXN98cZWvZEmcuyTt8c3-zmohu2-zK5FvN-U8FyY2cTPU3c6eCwJ0RBjFuiG5BpzmWz05HBj-diEiUpjaGUeUgiR3MOc-A._IIcK_M08idNougm13jiCKU4ZGt12FSz9xM0UHycqpg&dib_tag=se&keywords=iphone&qid=1712926303&sprefix=iphones%2Caps%2C214&sr=8-15', 'https://www.amazon.in/Apple-iPhone-15-Plus-128/dp/B0CHWZCY43/ref=sr_1_16?crid=YJHK4Q2L1Q93&dib=eyJ2IjoiMSJ9.8h9A_YSPiLCsRbGj7EQ9turOxBFzCusupfET52Xzc5IiL7KG5btRCx614LrVotdyhvbGYsynhB8KU8K4uiLP7rWcgm3v6riTOjLsQJ8kI94wFFTOu-P2SxvUm9HVaQy3TZwLwMig7_zExjXN98cZWvZEmcuyTt8c3-zmohu2-zK5FvN-U8FyY2cTPU3c6eCwJ0RBjFuiG5BpzmWz05HBj-diEiUpjaGUeUgiR3MOc-A._IIcK_M08idNougm13jiCKU4ZGt12FSz9xM0UHycqpg&dib_tag=se&keywords=iphone&qid=1712926303&sprefix=iphones%2Caps%2C214&sr=8-16', 'https://www.amazon.in/Apple-iPhone-15-128-GB/dp/B0CHX1W1XY/ref=sr_1_17?crid=YJHK4Q2L1Q93&dib=eyJ2IjoiMSJ9.8h9A_YSPiLCsRbGj7EQ9turOxBFzCusupfET52Xzc5IiL7KG5btRCx614LrVotdyhvbGYsynhB8KU8K4uiLP7rWcgm3v6riTOjLsQJ8kI94wFFTOu-P2SxvUm9HVaQy3TZwLwMig7_zExjXN98cZWvZEmcuyTt8c3-zmohu2-zK5FvN-U8FyY2cTPU3c6eCwJ0RBjFuiG5BpzmWz05HBj-diEiUpjaGUeUgiR3MOc-A._IIcK_M08idNougm13jiCKU4ZGt12FSz9xM0UHycqpg&dib_tag=se&keywords=iphone&qid=1712926303&sprefix=iphones%2Caps%2C214&sr=8-17', 'https://www.amazon.in/Apple-iPhone-Plus-128GB-Midnight/dp/B0BDJKL7KM/ref=sr_1_18?crid=YJHK4Q2L1Q93&dib=eyJ2IjoiMSJ9.8h9A_YSPiLCsRbGj7EQ9turOxBFzCusupfET52Xzc5IiL7KG5btRCx614LrVotdyhvbGYsynhB8KU8K4uiLP7rWcgm3v6riTOjLsQJ8kI94wFFTOu-P2SxvUm9HVaQy3TZwLwMig7_zExjXN98cZWvZEmcuyTt8c3-zmohu2-zK5FvN-U8FyY2cTPU3c6eCwJ0RBjFuiG5BpzmWz05HBj-diEiUpjaGUeUgiR3MOc-A._IIcK_M08idNougm13jiCKU4ZGt12FSz9xM0UHycqpg&dib_tag=se&keywords=iphone&qid=1712926303&sprefix=iphones%2Caps%2C214&sr=8-18']\n"
     ]
    }
   ],
   "source": [
    "print(product_name)\n",
    "# print(product_asin)\n",
    "print(product_price)\n",
    "print(product_ratings)\n",
    "print(product_ratings_num)\n"
   ]
  },
  {
   "cell_type": "code",
   "execution_count": 138,
   "id": "72802bed",
   "metadata": {},
   "outputs": [
    {
     "data": {
      "text/plain": [
       "['73,100',\n",
       " '62,800',\n",
       " '73,100',\n",
       " '52,090',\n",
       " '82,600',\n",
       " '73,100',\n",
       " '1,48,900',\n",
       " '62,800',\n",
       " '82,600',\n",
       " '73,100',\n",
       " '72,200',\n",
       " '62,800',\n",
       " '62,800',\n",
       " '73,100',\n",
       " '62,490',\n",
       " '73,100',\n",
       " '62,800']"
      ]
     },
     "execution_count": 138,
     "metadata": {},
     "output_type": "execute_result"
    }
   ],
   "source": [
    "prices"
   ]
  },
  {
   "cell_type": "code",
   "execution_count": 70,
   "id": "90726bbe",
   "metadata": {},
   "outputs": [],
   "source": []
  },
  {
   "cell_type": "code",
   "execution_count": null,
   "id": "e0457ff6",
   "metadata": {},
   "outputs": [],
   "source": []
  }
 ],
 "metadata": {
  "kernelspec": {
   "display_name": "Python 3 (ipykernel)",
   "language": "python",
   "name": "python3"
  },
  "language_info": {
   "codemirror_mode": {
    "name": "ipython",
    "version": 3
   },
   "file_extension": ".py",
   "mimetype": "text/x-python",
   "name": "python",
   "nbconvert_exporter": "python",
   "pygments_lexer": "ipython3",
   "version": "3.9.7"
  }
 },
 "nbformat": 4,
 "nbformat_minor": 5
}

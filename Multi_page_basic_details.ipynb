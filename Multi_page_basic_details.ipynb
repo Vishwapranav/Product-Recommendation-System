{
 "cells": [
  {
   "cell_type": "code",
   "execution_count": 7,
   "id": "d0219b42",
   "metadata": {},
   "outputs": [],
   "source": [
    "from selenium import webdriver\n",
    "from selenium.webdriver.common.by import By\n",
    "from time import sleep\n",
    "from selenium.webdriver.chrome.service import Service\n",
    "from selenium.webdriver.support.ui import WebDriverWait as wait\n",
    "from selenium.webdriver.support import expected_conditions as EC\n"
   ]
  },
  {
   "cell_type": "code",
   "execution_count": 8,
   "id": "61e70259",
   "metadata": {},
   "outputs": [
    {
     "name": "stderr",
     "output_type": "stream",
     "text": [
      "C:\\Users\\vishw\\AppData\\Local\\Temp/ipykernel_1672/2764402569.py:7: DeprecationWarning: executable_path has been deprecated, please pass in a Service object\n",
      "  browser = webdriver.Chrome(DRIVER_PATH)\n"
     ]
    }
   ],
   "source": [
    "from selenium import webdriver\n",
    "\n",
    "# Define the path to the Chrome WebDriver executable\n",
    "DRIVER_PATH = r'C:\\Users\\vishw\\Downloads\\chromedriver-win64\\chromedriver-win64\\chromedriver.exe'\n",
    "\n",
    "# Initialize the Chrome WebDriver\n",
    "browser = webdriver.Chrome(DRIVER_PATH)"
   ]
  },
  {
   "cell_type": "code",
   "execution_count": 9,
   "id": "c54fe8e5",
   "metadata": {},
   "outputs": [],
   "source": [
    "# load the webpage\n",
    "browser.get('https://www.amazon.in')"
   ]
  },
  {
   "cell_type": "code",
   "execution_count": 10,
   "id": "8a6c3f14",
   "metadata": {},
   "outputs": [],
   "source": [
    "browser.maximize_window()"
   ]
  },
  {
   "cell_type": "code",
   "execution_count": 11,
   "id": "64434803",
   "metadata": {},
   "outputs": [],
   "source": [
    "# get the input elements\n",
    "\n",
    "input_search = browser.find_element(By.ID, 'twotabsearchtextbox')\n",
    "search_button = browser.find_element(By.XPATH, \"(//input[@type='submit'])[1]\")"
   ]
  },
  {
   "cell_type": "code",
   "execution_count": 12,
   "id": "3b36c3d7",
   "metadata": {},
   "outputs": [],
   "source": [
    "# send the input to the webpage\n",
    "search=\"Iphones\"\n",
    "input_search.send_keys(search)\n",
    "sleep(1)\n",
    "search_button.click()"
   ]
  },
  {
   "cell_type": "code",
   "execution_count": 13,
   "id": "16806151",
   "metadata": {},
   "outputs": [
    {
     "name": "stdout",
     "output_type": "stream",
     "text": [
      "Scraping page 1\n",
      "Search started!\n",
      "Scraping page 2\n",
      "Search started!\n"
     ]
    }
   ],
   "source": [
    "\n",
    "product_asin = []\n",
    "product_name = []\n",
    "product_price = []\n",
    "product_ratings = []\n",
    "product_ratings_num = []\n",
    "product_link = []\n",
    "number_of_pages=2\n",
    "\n",
    "for i in range(number_of_pages):\n",
    "    print('Scraping page', i+1)\n",
    "    print(\"Search started!\")\n",
    "    items = wait(browser, 10).until(EC.presence_of_all_elements_located((By.XPATH, '//div[contains(@class, \"s-result-item s-asin\")]')))\n",
    "\n",
    "    for item in items:\n",
    "        # find name\n",
    "        name = item.find_element(By.XPATH, './/span[@class=\"a-size-medium a-color-base a-text-normal\"]')\n",
    "        product_name.append(name.text)\n",
    "        # find ASIN number \n",
    "        data_asin = item.get_attribute(\"data-asin\")\n",
    "        product_asin.append(data_asin)\n",
    "    \n",
    "\n",
    "         # find price\n",
    "   \n",
    "        if item.find_elements(By.XPATH, './/span[@class=\"a-price-whole\"]')!=[]:\n",
    "          whole_price=item.find_elements(By.XPATH, './/span[@class=\"a-price-whole\"]')[0].text\n",
    "        else:\n",
    "            whole_price=0;\n",
    "        product_price.append(whole_price)\n",
    "\n",
    "\n",
    "        # find ratings box\n",
    "        ratings_box = item.find_elements(By.XPATH, './/div[@class=\"a-row a-size-small\"]/span')\n",
    "        # find ratings and ratings_num\n",
    "        if ratings_box != []:\n",
    "            ratings = ratings_box[0].get_attribute('aria-label')\n",
    "            ratings_num = ratings_box[1].get_attribute('aria-label')\n",
    "        else:\n",
    "            ratings, ratings_num = 0, 0\n",
    "    x\n",
    "        product_ratings.append(ratings)\n",
    "        product_ratings_num.append(str(ratings_num))\n",
    "    \n",
    "\n",
    "          # find link\n",
    "        link = item.find_element(By.XPATH, './/a[@class=\"a-link-normal s-underline-text s-underline-link-text s-link-style a-text-normal\"]').get_attribute(\"href\")\n",
    "        product_link.append(link)\n",
    "    \n",
    "    next_button = browser.find_element(By.XPATH, \"//a[text()='Next']\")\n",
    "    next_button.click()\n",
    "    sleep(2)\n",
    "browser.quit()\n"
   ]
  },
  {
   "cell_type": "code",
   "execution_count": 14,
   "id": "9a8e229c",
   "metadata": {},
   "outputs": [
    {
     "name": "stdout",
     "output_type": "stream",
     "text": [
      "36\n",
      "36\n",
      "36\n",
      "36\n",
      "36\n"
     ]
    }
   ],
   "source": [
    "print(len(product_name))\n",
    "# print(product_asin)\n",
    "print(len(product_price))\n",
    "print(len(product_ratings))\n",
    "print(len(product_ratings_num))\n",
    "print(len(product_link))"
   ]
  },
  {
   "cell_type": "code",
   "execution_count": 15,
   "id": "8cf81b29",
   "metadata": {},
   "outputs": [
    {
     "name": "stdout",
     "output_type": "stream",
     "text": [
      "['Apple iPhone 13 (128GB) - Midnight', 'Apple iPhone 15 (128 GB) - Black', 'Apple iPhone 13 (128GB) - Blue', 'Apple iPhone 14 (128 GB) - Midnight', 'Apple iPhone 15 (128 GB) - Blue', 'Apple iPhone 14 (128 GB) - Purple', 'Apple iPhone 15 (128 GB) - Green', 'Apple iPhone 13 (128GB) - Midnight', 'Apple iPhone 15 (256 GB) - Blue', 'Apple iPhone 15 Plus (128 GB) - Blue', 'Apple iPhone 15 (256 GB) - Black', 'Apple iPhone 15 Pro Max (256 GB) - Blue Titanium', 'Apple iPhone 15 Plus (128 GB) - Black', 'Apple iPhone 13 (256GB) - (Product) RED', 'Apple iPhone 15 (128 GB) - Black', 'Apple iPhone 15 (256 GB) - Pink', 'Apple iPhone 15 Pro (256 GB) - Natural Titanium', 'Apple iPhone 15 (256 GB) - Green', 'Apple iPhone 13 (128GB) - Midnight', 'Apple iPhone 15 (256 GB) - Black', 'Apple iPhone 15 (128 GB) - Pink', 'Apple iPhone 15 Pro Max (256 GB) - Black Titanium', 'Apple iPhone 14 (128 GB) - Starlight', 'Apple iPhone 13 (256GB) - Starlight', 'Apple iPhone 14 (128 GB) - Blue', 'Apple iPhone 14 (128 GB) - (Product) RED', 'Apple iPhone 13 (256GB) - Blue', 'Apple iPhone 15 Pro (128 GB) - Black Titanium', 'Apple iPhone 15 Plus (256 GB) - Black', 'Apple iPhone 14 Plus (128 GB) - Blue', 'Apple iPhone 14 Plus (128 GB) - (Product) RED', 'Apple iPhone 15 Pro (1 TB) - Black Titanium', 'Apple iPhone 14 Plus (512 GB) - Purple', 'Apple iPhone 14 Plus (512 GB) - Blue', 'Apple iPhone 14 (512 GB) - Starlight', 'Apple iPhone 14 Plus (512 GB) - (Product) RED']\n",
      "['52,090', '71,590', '52,090', '58,999', '71,590', '58,999', '71,590', '52,090', '81,990', '80,990', '81,990', '1,48,900', '80,990', '61,900', '71,590', '81,990', '1,37,990', '81,990', '52,090', '81,990', '71,590', '1,48,900', '58,999', '61,900', '58,999', '58,999', '61,900', '1,27,990', '91,990', '66,999', '66,999', '1,77,990', '92,999', '92,999', '88,999', '92,999']\n",
      "['4.6 out of 5 stars', '4.5 out of 5 stars', '4.6 out of 5 stars', '4.5 out of 5 stars', '4.5 out of 5 stars', '4.5 out of 5 stars', '4.5 out of 5 stars', '4.6 out of 5 stars', '4.5 out of 5 stars', '4.6 out of 5 stars', '4.5 out of 5 stars', '4.5 out of 5 stars', '4.6 out of 5 stars', '4.6 out of 5 stars', '4.5 out of 5 stars', '4.5 out of 5 stars', '4.2 out of 5 stars', '4.5 out of 5 stars', '4.6 out of 5 stars', '4.5 out of 5 stars', '4.5 out of 5 stars', '4.5 out of 5 stars', '4.5 out of 5 stars', '4.6 out of 5 stars', '4.5 out of 5 stars', '4.5 out of 5 stars', '4.6 out of 5 stars', '4.2 out of 5 stars', '4.6 out of 5 stars', '4.5 out of 5 stars', '4.5 out of 5 stars', '4.2 out of 5 stars', '4.5 out of 5 stars', '4.5 out of 5 stars', '4.5 out of 5 stars', '4.5 out of 5 stars']\n",
      "['26,134 ratings', '1,120 ratings', '26,134 ratings', '4,937 ratings', '1,120 ratings', '4,937 ratings', '1,120 ratings', '26,134 ratings', '1,120 ratings', '546 ratings', '1,120 ratings', '225 ratings', '546 ratings', '26,134 ratings', '1,120 ratings', '1,120 ratings', '210 ratings', '1,120 ratings', '26,134 ratings', '1,120 ratings', '1,120 ratings', '225 ratings', '4,937 ratings', '26,134 ratings', '4,937 ratings', '4,937 ratings', '26,134 ratings', '210 ratings', '546 ratings', '1,819 ratings', '1,819 ratings', '210 ratings', '1,819 ratings', '1,819 ratings', '4,937 ratings', '1,819 ratings']\n"
     ]
    }
   ],
   "source": [
    "print(product_name)\n",
    "# print(product_asin)\n",
    "print(product_price)\n",
    "print(product_ratings)\n",
    "print(product_ratings_num)\n"
   ]
  },
  {
   "cell_type": "code",
   "execution_count": null,
   "id": "8b70790c",
   "metadata": {},
   "outputs": [],
   "source": []
  },
  {
   "cell_type": "code",
   "execution_count": null,
   "id": "6d9e3180",
   "metadata": {},
   "outputs": [],
   "source": []
  }
 ],
 "metadata": {
  "kernelspec": {
   "display_name": "Python 3 (ipykernel)",
   "language": "python",
   "name": "python3"
  },
  "language_info": {
   "codemirror_mode": {
    "name": "ipython",
    "version": 3
   },
   "file_extension": ".py",
   "mimetype": "text/x-python",
   "name": "python",
   "nbconvert_exporter": "python",
   "pygments_lexer": "ipython3",
   "version": "3.9.7"
  }
 },
 "nbformat": 4,
 "nbformat_minor": 5
}

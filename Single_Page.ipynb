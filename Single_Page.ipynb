{
 "cells": [
  {
   "cell_type": "code",
   "execution_count": 129,
   "id": "1bffa793",
   "metadata": {},
   "outputs": [],
   "source": [
    "from selenium import webdriver\n",
    "from selenium.webdriver.chrome.service import Service\n",
    "from selenium.webdriver.common.by import By\n",
    "from selenium.webdriver.support.ui import WebDriverWait as wait\n",
    "from selenium.webdriver.support import expected_conditions as EC\n",
    "\n"
   ]
  },
  {
   "cell_type": "code",
   "execution_count": 130,
   "id": "08906171",
   "metadata": {},
   "outputs": [
    {
     "name": "stderr",
     "output_type": "stream",
     "text": [
      "C:\\Users\\vishw\\AppData\\Local\\Temp/ipykernel_20600/3472808429.py:8: DeprecationWarning: executable_path has been deprecated, please pass in a Service object\n",
      "  driver = webdriver.Chrome(DRIVER_PATH)\n"
     ]
    },
    {
     "ename": "WebDriverException",
     "evalue": "Message: unknown error: net::ERR_NAME_NOT_RESOLVED\n  (Session info: chrome=123.0.6312.106)\nStacktrace:\n\tGetHandleVerifier [0x00007FF670F97032+63090]\n\t(No symbol) [0x00007FF670F02C82]\n\t(No symbol) [0x00007FF670D9EC65]\n\t(No symbol) [0x00007FF670D9AC1A]\n\t(No symbol) [0x00007FF670D8D514]\n\t(No symbol) [0x00007FF670D8E8F8]\n\t(No symbol) [0x00007FF670D8D7FF]\n\t(No symbol) [0x00007FF670D8D104]\n\t(No symbol) [0x00007FF670D8D021]\n\t(No symbol) [0x00007FF670D8B0A8]\n\t(No symbol) [0x00007FF670D8B8BC]\n\t(No symbol) [0x00007FF670DA14AD]\n\t(No symbol) [0x00007FF670E23D67]\n\t(No symbol) [0x00007FF670E06FDA]\n\t(No symbol) [0x00007FF670E23412]\n\t(No symbol) [0x00007FF670E06D83]\n\t(No symbol) [0x00007FF670DD83A8]\n\t(No symbol) [0x00007FF670DD9441]\n\tGetHandleVerifier [0x00007FF6713925AD+4238317]\n\tGetHandleVerifier [0x00007FF6713CF70D+4488525]\n\tGetHandleVerifier [0x00007FF6713C79EF+4456495]\n\tGetHandleVerifier [0x00007FF671070576+953270]\n\t(No symbol) [0x00007FF670F0E54F]\n\t(No symbol) [0x00007FF670F09224]\n\t(No symbol) [0x00007FF670F0935B]\n\t(No symbol) [0x00007FF670EF9B94]\n\tBaseThreadInitThunk [0x00007FFAB051257D+29]\n\tRtlUserThreadStart [0x00007FFAB13CAA58+40]\n",
     "output_type": "error",
     "traceback": [
      "\u001b[1;31m---------------------------------------------------------------------------\u001b[0m",
      "\u001b[1;31mWebDriverException\u001b[0m                        Traceback (most recent call last)",
      "\u001b[1;32m~\\AppData\\Local\\Temp/ipykernel_20600/3472808429.py\u001b[0m in \u001b[0;36m<module>\u001b[1;34m\u001b[0m\n\u001b[0;32m      7\u001b[0m \u001b[1;31m# Initialize the Chrome WebDriver\u001b[0m\u001b[1;33m\u001b[0m\u001b[1;33m\u001b[0m\u001b[0m\n\u001b[0;32m      8\u001b[0m \u001b[0mdriver\u001b[0m \u001b[1;33m=\u001b[0m \u001b[0mwebdriver\u001b[0m\u001b[1;33m.\u001b[0m\u001b[0mChrome\u001b[0m\u001b[1;33m(\u001b[0m\u001b[0mDRIVER_PATH\u001b[0m\u001b[1;33m)\u001b[0m\u001b[1;33m\u001b[0m\u001b[1;33m\u001b[0m\u001b[0m\n\u001b[1;32m----> 9\u001b[1;33m \u001b[0mdriver\u001b[0m\u001b[1;33m.\u001b[0m\u001b[0mget\u001b[0m\u001b[1;33m(\u001b[0m\u001b[0mweb\u001b[0m\u001b[1;33m)\u001b[0m\u001b[1;33m\u001b[0m\u001b[1;33m\u001b[0m\u001b[0m\n\u001b[0m\u001b[0;32m     10\u001b[0m \u001b[0mdriver\u001b[0m\u001b[1;33m.\u001b[0m\u001b[0mmaximize_window\u001b[0m\u001b[1;33m(\u001b[0m\u001b[1;33m)\u001b[0m\u001b[1;33m\u001b[0m\u001b[1;33m\u001b[0m\u001b[0m\n",
      "\u001b[1;32m~\\anaconda3\\lib\\site-packages\\selenium\\webdriver\\remote\\webdriver.py\u001b[0m in \u001b[0;36mget\u001b[1;34m(self, url)\u001b[0m\n\u001b[0;32m    447\u001b[0m     \u001b[1;32mdef\u001b[0m \u001b[0mget\u001b[0m\u001b[1;33m(\u001b[0m\u001b[0mself\u001b[0m\u001b[1;33m,\u001b[0m \u001b[0murl\u001b[0m\u001b[1;33m:\u001b[0m \u001b[0mstr\u001b[0m\u001b[1;33m)\u001b[0m \u001b[1;33m->\u001b[0m \u001b[1;32mNone\u001b[0m\u001b[1;33m:\u001b[0m\u001b[1;33m\u001b[0m\u001b[1;33m\u001b[0m\u001b[0m\n\u001b[0;32m    448\u001b[0m         \u001b[1;34m\"\"\"Loads a web page in the current browser session.\"\"\"\u001b[0m\u001b[1;33m\u001b[0m\u001b[1;33m\u001b[0m\u001b[0m\n\u001b[1;32m--> 449\u001b[1;33m         \u001b[0mself\u001b[0m\u001b[1;33m.\u001b[0m\u001b[0mexecute\u001b[0m\u001b[1;33m(\u001b[0m\u001b[0mCommand\u001b[0m\u001b[1;33m.\u001b[0m\u001b[0mGET\u001b[0m\u001b[1;33m,\u001b[0m \u001b[1;33m{\u001b[0m\u001b[1;34m\"url\"\u001b[0m\u001b[1;33m:\u001b[0m \u001b[0murl\u001b[0m\u001b[1;33m}\u001b[0m\u001b[1;33m)\u001b[0m\u001b[1;33m\u001b[0m\u001b[1;33m\u001b[0m\u001b[0m\n\u001b[0m\u001b[0;32m    450\u001b[0m \u001b[1;33m\u001b[0m\u001b[0m\n\u001b[0;32m    451\u001b[0m     \u001b[1;33m@\u001b[0m\u001b[0mproperty\u001b[0m\u001b[1;33m\u001b[0m\u001b[1;33m\u001b[0m\u001b[0m\n",
      "\u001b[1;32m~\\anaconda3\\lib\\site-packages\\selenium\\webdriver\\remote\\webdriver.py\u001b[0m in \u001b[0;36mexecute\u001b[1;34m(self, driver_command, params)\u001b[0m\n\u001b[0;32m    438\u001b[0m         \u001b[0mresponse\u001b[0m \u001b[1;33m=\u001b[0m \u001b[0mself\u001b[0m\u001b[1;33m.\u001b[0m\u001b[0mcommand_executor\u001b[0m\u001b[1;33m.\u001b[0m\u001b[0mexecute\u001b[0m\u001b[1;33m(\u001b[0m\u001b[0mdriver_command\u001b[0m\u001b[1;33m,\u001b[0m \u001b[0mparams\u001b[0m\u001b[1;33m)\u001b[0m\u001b[1;33m\u001b[0m\u001b[1;33m\u001b[0m\u001b[0m\n\u001b[0;32m    439\u001b[0m         \u001b[1;32mif\u001b[0m \u001b[0mresponse\u001b[0m\u001b[1;33m:\u001b[0m\u001b[1;33m\u001b[0m\u001b[1;33m\u001b[0m\u001b[0m\n\u001b[1;32m--> 440\u001b[1;33m             \u001b[0mself\u001b[0m\u001b[1;33m.\u001b[0m\u001b[0merror_handler\u001b[0m\u001b[1;33m.\u001b[0m\u001b[0mcheck_response\u001b[0m\u001b[1;33m(\u001b[0m\u001b[0mresponse\u001b[0m\u001b[1;33m)\u001b[0m\u001b[1;33m\u001b[0m\u001b[1;33m\u001b[0m\u001b[0m\n\u001b[0m\u001b[0;32m    441\u001b[0m             \u001b[0mresponse\u001b[0m\u001b[1;33m[\u001b[0m\u001b[1;34m\"value\"\u001b[0m\u001b[1;33m]\u001b[0m \u001b[1;33m=\u001b[0m \u001b[0mself\u001b[0m\u001b[1;33m.\u001b[0m\u001b[0m_unwrap_value\u001b[0m\u001b[1;33m(\u001b[0m\u001b[0mresponse\u001b[0m\u001b[1;33m.\u001b[0m\u001b[0mget\u001b[0m\u001b[1;33m(\u001b[0m\u001b[1;34m\"value\"\u001b[0m\u001b[1;33m,\u001b[0m \u001b[1;32mNone\u001b[0m\u001b[1;33m)\u001b[0m\u001b[1;33m)\u001b[0m\u001b[1;33m\u001b[0m\u001b[1;33m\u001b[0m\u001b[0m\n\u001b[0;32m    442\u001b[0m             \u001b[1;32mreturn\u001b[0m \u001b[0mresponse\u001b[0m\u001b[1;33m\u001b[0m\u001b[1;33m\u001b[0m\u001b[0m\n",
      "\u001b[1;32m~\\anaconda3\\lib\\site-packages\\selenium\\webdriver\\remote\\errorhandler.py\u001b[0m in \u001b[0;36mcheck_response\u001b[1;34m(self, response)\u001b[0m\n\u001b[0;32m    243\u001b[0m                 \u001b[0malert_text\u001b[0m \u001b[1;33m=\u001b[0m \u001b[0mvalue\u001b[0m\u001b[1;33m[\u001b[0m\u001b[1;34m\"alert\"\u001b[0m\u001b[1;33m]\u001b[0m\u001b[1;33m.\u001b[0m\u001b[0mget\u001b[0m\u001b[1;33m(\u001b[0m\u001b[1;34m\"text\"\u001b[0m\u001b[1;33m)\u001b[0m\u001b[1;33m\u001b[0m\u001b[1;33m\u001b[0m\u001b[0m\n\u001b[0;32m    244\u001b[0m             \u001b[1;32mraise\u001b[0m \u001b[0mexception_class\u001b[0m\u001b[1;33m(\u001b[0m\u001b[0mmessage\u001b[0m\u001b[1;33m,\u001b[0m \u001b[0mscreen\u001b[0m\u001b[1;33m,\u001b[0m \u001b[0mstacktrace\u001b[0m\u001b[1;33m,\u001b[0m \u001b[0malert_text\u001b[0m\u001b[1;33m)\u001b[0m  \u001b[1;31m# type: ignore[call-arg]  # mypy is not smart enough here\u001b[0m\u001b[1;33m\u001b[0m\u001b[1;33m\u001b[0m\u001b[0m\n\u001b[1;32m--> 245\u001b[1;33m         \u001b[1;32mraise\u001b[0m \u001b[0mexception_class\u001b[0m\u001b[1;33m(\u001b[0m\u001b[0mmessage\u001b[0m\u001b[1;33m,\u001b[0m \u001b[0mscreen\u001b[0m\u001b[1;33m,\u001b[0m \u001b[0mstacktrace\u001b[0m\u001b[1;33m)\u001b[0m\u001b[1;33m\u001b[0m\u001b[1;33m\u001b[0m\u001b[0m\n\u001b[0m",
      "\u001b[1;31mWebDriverException\u001b[0m: Message: unknown error: net::ERR_NAME_NOT_RESOLVED\n  (Session info: chrome=123.0.6312.106)\nStacktrace:\n\tGetHandleVerifier [0x00007FF670F97032+63090]\n\t(No symbol) [0x00007FF670F02C82]\n\t(No symbol) [0x00007FF670D9EC65]\n\t(No symbol) [0x00007FF670D9AC1A]\n\t(No symbol) [0x00007FF670D8D514]\n\t(No symbol) [0x00007FF670D8E8F8]\n\t(No symbol) [0x00007FF670D8D7FF]\n\t(No symbol) [0x00007FF670D8D104]\n\t(No symbol) [0x00007FF670D8D021]\n\t(No symbol) [0x00007FF670D8B0A8]\n\t(No symbol) [0x00007FF670D8B8BC]\n\t(No symbol) [0x00007FF670DA14AD]\n\t(No symbol) [0x00007FF670E23D67]\n\t(No symbol) [0x00007FF670E06FDA]\n\t(No symbol) [0x00007FF670E23412]\n\t(No symbol) [0x00007FF670E06D83]\n\t(No symbol) [0x00007FF670DD83A8]\n\t(No symbol) [0x00007FF670DD9441]\n\tGetHandleVerifier [0x00007FF6713925AD+4238317]\n\tGetHandleVerifier [0x00007FF6713CF70D+4488525]\n\tGetHandleVerifier [0x00007FF6713C79EF+4456495]\n\tGetHandleVerifier [0x00007FF671070576+953270]\n\t(No symbol) [0x00007FF670F0E54F]\n\t(No symbol) [0x00007FF670F09224]\n\t(No symbol) [0x00007FF670F0935B]\n\t(No symbol) [0x00007FF670EF9B94]\n\tBaseThreadInitThunk [0x00007FFAB051257D+29]\n\tRtlUserThreadStart [0x00007FFAB13CAA58+40]\n"
     ]
    }
   ],
   "source": [
    "\n",
    "\n",
    "\n",
    "web = 'https://www.amazon.in'\n",
    "\n",
    "driver_path = r'C:\\Users\\vishw\\Downloads\\chromedriver-win64\\chromedriver-win64\\chromedriver.exe'\n",
    "\n",
    "DRIVER_PATH = r'C:\\Users\\vishw\\Downloads\\chromedriver-win64\\chromedriver-win64\\chromedriver.exe'\n",
    "\n",
    "# Initialize the Chrome WebDriver\n",
    "driver = webdriver.Chrome(DRIVER_PATH)\n",
    "driver.get(web)\n",
    "driver.maximize_window()"
   ]
  },
  {
   "cell_type": "code",
   "execution_count": 128,
   "id": "79a64e39",
   "metadata": {},
   "outputs": [],
   "source": [
    "\n",
    "driver.implicitly_wait(5)\n",
    "keyword = \"redmi\"\n",
    "search = driver.find_element(By.ID, 'twotabsearchtextbox')\n",
    "search.send_keys(keyword)\n",
    "# click search button\n",
    "search_button = driver.find_element(By.XPATH, \"(//input[@type='submit'])[1]\")\n",
    "search_button.click()\n",
    "\n",
    "filter_product=driver.find_element(By.XPATH,'.//span[@class=\"a-button a-button-dropdown a-button-small\"]')\n",
    "filter_product.click()\n",
    "\n",
    "Avg_cust_review=driver.find_element(By.ID,\"s-result-sort-select_3\")\n",
    "Avg_cust_review.click()\n",
    "\n",
    "driver.implicitly_wait(5)\n"
   ]
  },
  {
   "cell_type": "code",
   "execution_count": 118,
   "id": "21d40822",
   "metadata": {},
   "outputs": [],
   "source": [
    "\n",
    "product_asin = []\n",
    "product_name = []\n",
    "product_price = []\n",
    "product_ratings = []\n",
    "product_ratings_num = []\n",
    "product_link = []\n",
    "\n",
    "items = wait(driver, 10).until(EC.presence_of_all_elements_located((By.XPATH, '//div[contains(@class, \"s-result-item s-asin\")]')))\n"
   ]
  },
  {
   "cell_type": "code",
   "execution_count": null,
   "id": "05f7d1a1",
   "metadata": {},
   "outputs": [],
   "source": []
  },
  {
   "cell_type": "code",
   "execution_count": 119,
   "id": "5b6f965b",
   "metadata": {},
   "outputs": [
    {
     "name": "stdout",
     "output_type": "stream",
     "text": [
      "Search started!\n",
      "['Redmi 13C (Stardust Black, 4GB RAM, 128GB Storage) | Powered by 4G Mediatek Helio G85 | 90Hz Display | 50MP AI Triple Camera', '(Refurbished) Redmi 10 Power (Power Black, 8GB RAM, 128GB Storage)', 'Redmi 13C 5G (Startrail Green, 4GB RAM, 128GB Storage) | MediaTek Dimensity 6100+ 5G | 90Hz Display', 'Redmi 13C (Starfrost White, 4GB RAM, 128GB Storage) | Powered by 4G MediaTek Helio G85 | 90Hz Display | 50MP AI Triple Camera', 'Redmi 13C 5G (Startrail Silver, 4GB RAM, 128GB Storage) | MediaTek Dimensity 6100+ 5G | 90Hz Display', 'Redmi A2 (Sea Green, 2GB RAM, 64GB Storage)', 'Redmi 12 5G Moonstone Silver 6GB RAM 128GB ROM', 'Redmi 13C (Stardust Black, 8GB RAM, 256GB Storage) | Powered by 4G MediaTek Helio G85 | 90Hz Display | 50MP AI Triple Camera', 'Redmi 12 5G Pastel Blue 8GB RAM 256GB ROM', \"Redmi Note 13 Pro+ (Fusion Purple, 8GB RAM, 256GB Storage) | World's First Mediatek 7200 Ultra 5G | 200MP Hi-Res Camera | 1.5K Curved AMOLED | 120W HyperCharge\", 'Samsung Galaxy M15 5G (Celestial Blue,4GB RAM,128GB Storage)| 50MP Triple Cam| 6000mAh Battery| MediaTek Dimensity 6100+| Super AMOLED Display| Add to Cart and Get Travel Adapter at No Cost', 'TECNO POP 8 (Mystery White,(8GB*+64GB)|90Hz Punch Hole Display with Dynamic Port & Dual Speakers with DTS| 5000mAh Battery |10W Type-C| Side Fingerprint Sensor| Octa-Core Processor', 'Redmi Note 13 5G (Arctic White, 6GB RAM, 128GB Storage) | 5G Ready | 120Hz Bezel-Less AMOLED | 7.mm Slimmest Note Ever | 108MP Pro-Grade Camera', 'Redmi 13C (Stardust Black, 6GB RAM, 128GB Storage) | Powered by 4G MediaTek Helio G85 | 90Hz Display | 50MP AI Triple Camera', 'Redmi 12 5G Pastel Blue 4GB RAM 128GB ROM', 'Redmi Note 13 5G (Stealth Black, 8GB RAM, 256GB Storage) | 5G Ready | 120Hz Bezel-Less AMOLED | 7.mm Slimmest Note Ever | 108MP Pro-Grade Camera', 'Redmi 12 (Jade Black,6GB RAM, 128GB Storage)', 'Redmi Note 10T 5G (Mint Green, 4GB RAM, 64GB Storage) | Dual5G | 90Hz Adaptive Refresh Rate | MediaTek Dimensity 700 7nm Processor | 22.5W Charger Included', 'Redmi 12 5G Jade Black 6GB RAM 128GB ROM', 'Redmi 12 5G Moonstone Silver 4GB RAM 128GB ROM', '7SEVEN® Suitable for Xiaomi mi 12 pro 5g tempered glass screen protector guard with edge-to-edge full glue mobile screen Protector from anti scratch']\n",
      "['7,699', '9,099', '10,499', '7,699', '10,499', '5,299', '12,999', '10,999', '14,999', '31,999', '13,299', '6,799', '17,999', '8,699', '11,999', '19,999', '9,999', '14,499', '12,999', '11,999', '499']\n",
      "['4.1 out of 5 stars', '3.4 out of 5 stars', '4.0 out of 5 stars', '4.1 out of 5 stars', '4.0 out of 5 stars', '3.9 out of 5 stars', '4.0 out of 5 stars', '4.1 out of 5 stars', '4.0 out of 5 stars', '3.8 out of 5 stars', '2.5 out of 5 stars', '4.1 out of 5 stars', '3.6 out of 5 stars', '4.1 out of 5 stars', '4.0 out of 5 stars', '3.6 out of 5 stars', '4.0 out of 5 stars', '4.2 out of 5 stars', '4.0 out of 5 stars', '4.0 out of 5 stars', '2.5 out of 5 stars']\n",
      "['2,874 ratings', '24 ratings', '2,828 ratings', '2,874 ratings', '2,828 ratings', '9,465 ratings', '15,809 ratings', '2,874 ratings', '15,809 ratings', '110 ratings', '2 ratings', '1,064 ratings', '2,115 ratings', '2,874 ratings', '15,809 ratings', '2,115 ratings', '508 ratings', '216,079 ratings', '15,809 ratings', '15,809 ratings', '16 ratings']\n",
      "['https://www.amazon.in/sspa/click?ie=UTF8&spc=MTo0MzY0MTMyNjcyODA1MTAxOjE3MTI4NDY5MTY6c3BfYXRmOjMwMDEwNTY1OTM3OTYzMjo6MDo6&url=%2FStardust-Storage-Powered-Mediatek-Display%2Fdp%2FB0CMTTRN8M%2Fref%3Dsr_1_1_sspa%3Fdib%3DeyJ2IjoiMSJ9.7n66FPwJcORKzzY1dHhMn_-JjhaSZRns_rqQtfgR0UwBRfLhZZOfk7v3oicBl4OUFtOMjnrG-NeDK3SZOtmdBRoJESNFnIztQM9f5POMrBMr6c6Pq1Rsqc9bSaUopzshQ-4hjyxrA1fcNytpdkH9f35taZpX8aB85q6Y3yBDQCTrEJSCi4RnsryM711O3tB2Jrxzwj_uQm3IfD23lQsj6bec_OyOoKklD-oR2E9Xy-U.sMxxI-kEeq6lhBePRXShB0TR4e5A4bA_DuIYaV7XSzQ%26dib_tag%3Dse%26keywords%3Dredmi%26qid%3D1712846916%26sr%3D8-1-spons%26sp_csd%3Dd2lkZ2V0TmFtZT1zcF9hdGY%26psc%3D1', 'https://www.amazon.in/sspa/click?ie=UTF8&spc=MTo0MzY0MTMyNjcyODA1MTAxOjE3MTI4NDY5MTY6c3BfYXRmOjMwMDE2MDE3OTM5NzczMjo6MDo6&url=%2FRefurbished-Redmi-Power-Black-Storage%2Fdp%2FB0BZN36HNG%2Fref%3Dsr_1_2_sspa%3Fdib%3DeyJ2IjoiMSJ9.7n66FPwJcORKzzY1dHhMn_-JjhaSZRns_rqQtfgR0UwBRfLhZZOfk7v3oicBl4OUFtOMjnrG-NeDK3SZOtmdBRoJESNFnIztQM9f5POMrBMr6c6Pq1Rsqc9bSaUopzshQ-4hjyxrA1fcNytpdkH9f35taZpX8aB85q6Y3yBDQCTrEJSCi4RnsryM711O3tB2Jrxzwj_uQm3IfD23lQsj6bec_OyOoKklD-oR2E9Xy-U.sMxxI-kEeq6lhBePRXShB0TR4e5A4bA_DuIYaV7XSzQ%26dib_tag%3Dse%26keywords%3Dredmi%26qid%3D1712846916%26sr%3D8-2-spons%26sp_csd%3Dd2lkZ2V0TmFtZT1zcF9hdGY%26psc%3D1', 'https://www.amazon.in/Redmi-Startrail-Storage-MediaTek-Dimensity/dp/B0CNX6WVG5/ref=sr_1_3?dib=eyJ2IjoiMSJ9.7n66FPwJcORKzzY1dHhMn_-JjhaSZRns_rqQtfgR0UwBRfLhZZOfk7v3oicBl4OUFtOMjnrG-NeDK3SZOtmdBRoJESNFnIztQM9f5POMrBMr6c6Pq1Rsqc9bSaUopzshQ-4hjyxrA1fcNytpdkH9f35taZpX8aB85q6Y3yBDQCTrEJSCi4RnsryM711O3tB2Jrxzwj_uQm3IfD23lQsj6bec_OyOoKklD-oR2E9Xy-U.sMxxI-kEeq6lhBePRXShB0TR4e5A4bA_DuIYaV7XSzQ&dib_tag=se&keywords=redmi&qid=1712846916&sr=8-3', 'https://www.amazon.in/Starfrost-Storage-Powered-MediaTek-Display/dp/B0CMTY5P4V/ref=sr_1_4?dib=eyJ2IjoiMSJ9.7n66FPwJcORKzzY1dHhMn_-JjhaSZRns_rqQtfgR0UwBRfLhZZOfk7v3oicBl4OUFtOMjnrG-NeDK3SZOtmdBRoJESNFnIztQM9f5POMrBMr6c6Pq1Rsqc9bSaUopzshQ-4hjyxrA1fcNytpdkH9f35taZpX8aB85q6Y3yBDQCTrEJSCi4RnsryM711O3tB2Jrxzwj_uQm3IfD23lQsj6bec_OyOoKklD-oR2E9Xy-U.sMxxI-kEeq6lhBePRXShB0TR4e5A4bA_DuIYaV7XSzQ&dib_tag=se&keywords=redmi&qid=1712846916&sr=8-4', 'https://www.amazon.in/Redmi-Startrail-Storage-MediaTek-Dimensity/dp/B0CNX82VVQ/ref=sr_1_5?dib=eyJ2IjoiMSJ9.7n66FPwJcORKzzY1dHhMn_-JjhaSZRns_rqQtfgR0UwBRfLhZZOfk7v3oicBl4OUFtOMjnrG-NeDK3SZOtmdBRoJESNFnIztQM9f5POMrBMr6c6Pq1Rsqc9bSaUopzshQ-4hjyxrA1fcNytpdkH9f35taZpX8aB85q6Y3yBDQCTrEJSCi4RnsryM711O3tB2Jrxzwj_uQm3IfD23lQsj6bec_OyOoKklD-oR2E9Xy-U.sMxxI-kEeq6lhBePRXShB0TR4e5A4bA_DuIYaV7XSzQ&dib_tag=se&keywords=redmi&qid=1712846916&sr=8-5', 'https://www.amazon.in/Redmi-Sea-Green-64GB-Storage/dp/B0C74PD9VG/ref=sr_1_6?dib=eyJ2IjoiMSJ9.7n66FPwJcORKzzY1dHhMn_-JjhaSZRns_rqQtfgR0UwBRfLhZZOfk7v3oicBl4OUFtOMjnrG-NeDK3SZOtmdBRoJESNFnIztQM9f5POMrBMr6c6Pq1Rsqc9bSaUopzshQ-4hjyxrA1fcNytpdkH9f35taZpX8aB85q6Y3yBDQCTrEJSCi4RnsryM711O3tB2Jrxzwj_uQm3IfD23lQsj6bec_OyOoKklD-oR2E9Xy-U.sMxxI-kEeq6lhBePRXShB0TR4e5A4bA_DuIYaV7XSzQ&dib_tag=se&keywords=redmi&qid=1712846916&sr=8-6', 'https://www.amazon.in/Redmi-Moonstone-Silver-6GB-128GB/dp/B0C9J9CZR6/ref=sr_1_7?dib=eyJ2IjoiMSJ9.7n66FPwJcORKzzY1dHhMn_-JjhaSZRns_rqQtfgR0UwBRfLhZZOfk7v3oicBl4OUFtOMjnrG-NeDK3SZOtmdBRoJESNFnIztQM9f5POMrBMr6c6Pq1Rsqc9bSaUopzshQ-4hjyxrA1fcNytpdkH9f35taZpX8aB85q6Y3yBDQCTrEJSCi4RnsryM711O3tB2Jrxzwj_uQm3IfD23lQsj6bec_OyOoKklD-oR2E9Xy-U.sMxxI-kEeq6lhBePRXShB0TR4e5A4bA_DuIYaV7XSzQ&dib_tag=se&keywords=redmi&qid=1712846916&sr=8-7', 'https://www.amazon.in/Stardust-Storage-Powered-MediaTek-Display/dp/B0CMTWQYFM/ref=sr_1_8?dib=eyJ2IjoiMSJ9.7n66FPwJcORKzzY1dHhMn_-JjhaSZRns_rqQtfgR0UwBRfLhZZOfk7v3oicBl4OUFtOMjnrG-NeDK3SZOtmdBRoJESNFnIztQM9f5POMrBMr6c6Pq1Rsqc9bSaUopzshQ-4hjyxrA1fcNytpdkH9f35taZpX8aB85q6Y3yBDQCTrEJSCi4RnsryM711O3tB2Jrxzwj_uQm3IfD23lQsj6bec_OyOoKklD-oR2E9Xy-U.sMxxI-kEeq6lhBePRXShB0TR4e5A4bA_DuIYaV7XSzQ&dib_tag=se&keywords=redmi&qid=1712846916&sr=8-8', 'https://www.amazon.in/Redmi-Pastel-Blue-8GB-256GB/dp/B0C9JFBGSJ/ref=sr_1_9?dib=eyJ2IjoiMSJ9.7n66FPwJcORKzzY1dHhMn_-JjhaSZRns_rqQtfgR0UwBRfLhZZOfk7v3oicBl4OUFtOMjnrG-NeDK3SZOtmdBRoJESNFnIztQM9f5POMrBMr6c6Pq1Rsqc9bSaUopzshQ-4hjyxrA1fcNytpdkH9f35taZpX8aB85q6Y3yBDQCTrEJSCi4RnsryM711O3tB2Jrxzwj_uQm3IfD23lQsj6bec_OyOoKklD-oR2E9Xy-U.sMxxI-kEeq6lhBePRXShB0TR4e5A4bA_DuIYaV7XSzQ&dib_tag=se&keywords=redmi&qid=1712846916&sr=8-9', 'https://www.amazon.in/Redmi-Fusion-Storage-Mediatek-HyperCharge/dp/B0CRQ8Q3QP/ref=sr_1_10?dib=eyJ2IjoiMSJ9.7n66FPwJcORKzzY1dHhMn_-JjhaSZRns_rqQtfgR0UwBRfLhZZOfk7v3oicBl4OUFtOMjnrG-NeDK3SZOtmdBRoJESNFnIztQM9f5POMrBMr6c6Pq1Rsqc9bSaUopzshQ-4hjyxrA1fcNytpdkH9f35taZpX8aB85q6Y3yBDQCTrEJSCi4RnsryM711O3tB2Jrxzwj_uQm3IfD23lQsj6bec_OyOoKklD-oR2E9Xy-U.sMxxI-kEeq6lhBePRXShB0TR4e5A4bA_DuIYaV7XSzQ&dib_tag=se&keywords=redmi&qid=1712846916&sr=8-10', 'https://www.amazon.in/sspa/click?ie=UTF8&spc=MTo0MzY0MTMyNjcyODA1MTAxOjE3MTI4NDY5MTY6c3BfbXRmOjMwMDE1NjUzNzYzNjAzMjo6MDo6&url=%2FSamsung-Celestial-Storage-MediaTek-Dimensity%2Fdp%2FB0CYQ1VG35%2Fref%3Dsr_1_11_sspa%3Fdib%3DeyJ2IjoiMSJ9.7n66FPwJcORKzzY1dHhMn_-JjhaSZRns_rqQtfgR0UwBRfLhZZOfk7v3oicBl4OUFtOMjnrG-NeDK3SZOtmdBRoJESNFnIztQM9f5POMrBMr6c6Pq1Rsqc9bSaUopzshQ-4hjyxrA1fcNytpdkH9f35taZpX8aB85q6Y3yBDQCTrEJSCi4RnsryM711O3tB2Jrxzwj_uQm3IfD23lQsj6bec_OyOoKklD-oR2E9Xy-U.sMxxI-kEeq6lhBePRXShB0TR4e5A4bA_DuIYaV7XSzQ%26dib_tag%3Dse%26keywords%3Dredmi%26qid%3D1712846916%26sr%3D8-11-spons%26sp_csd%3Dd2lkZ2V0TmFtZT1zcF9tdGY%26psc%3D1', 'https://www.amazon.in/sspa/click?ie=UTF8&spc=MTo0MzY0MTMyNjcyODA1MTAxOjE3MTI4NDY5MTY6c3BfbXRmOjMwMDExNzc1MDY0NzczMjo6MDo6&url=%2FMystery-Speakers-Fingerprint-Octa-Core-Processor%2Fdp%2FB0CQ7SHTF4%2Fref%3Dsr_1_12_sspa%3Fdib%3DeyJ2IjoiMSJ9.7n66FPwJcORKzzY1dHhMn_-JjhaSZRns_rqQtfgR0UwBRfLhZZOfk7v3oicBl4OUFtOMjnrG-NeDK3SZOtmdBRoJESNFnIztQM9f5POMrBMr6c6Pq1Rsqc9bSaUopzshQ-4hjyxrA1fcNytpdkH9f35taZpX8aB85q6Y3yBDQCTrEJSCi4RnsryM711O3tB2Jrxzwj_uQm3IfD23lQsj6bec_OyOoKklD-oR2E9Xy-U.sMxxI-kEeq6lhBePRXShB0TR4e5A4bA_DuIYaV7XSzQ%26dib_tag%3Dse%26keywords%3Dredmi%26qid%3D1712846916%26sr%3D8-12-spons%26sp_csd%3Dd2lkZ2V0TmFtZT1zcF9tdGY%26psc%3D1', 'https://www.amazon.in/Redmi-Storage-Bezel-Less-Slimmest-Pro-Grade/dp/B0CQPGG8KG/ref=sr_1_13?dib=eyJ2IjoiMSJ9.7n66FPwJcORKzzY1dHhMn_-JjhaSZRns_rqQtfgR0UwBRfLhZZOfk7v3oicBl4OUFtOMjnrG-NeDK3SZOtmdBRoJESNFnIztQM9f5POMrBMr6c6Pq1Rsqc9bSaUopzshQ-4hjyxrA1fcNytpdkH9f35taZpX8aB85q6Y3yBDQCTrEJSCi4RnsryM711O3tB2Jrxzwj_uQm3IfD23lQsj6bec_OyOoKklD-oR2E9Xy-U.sMxxI-kEeq6lhBePRXShB0TR4e5A4bA_DuIYaV7XSzQ&dib_tag=se&keywords=redmi&qid=1712846916&sr=8-13', 'https://www.amazon.in/Stardust-Storage-Powered-MediaTek-Display/dp/B0CMTW9MVK/ref=sr_1_14?dib=eyJ2IjoiMSJ9.7n66FPwJcORKzzY1dHhMn_-JjhaSZRns_rqQtfgR0UwBRfLhZZOfk7v3oicBl4OUFtOMjnrG-NeDK3SZOtmdBRoJESNFnIztQM9f5POMrBMr6c6Pq1Rsqc9bSaUopzshQ-4hjyxrA1fcNytpdkH9f35taZpX8aB85q6Y3yBDQCTrEJSCi4RnsryM711O3tB2Jrxzwj_uQm3IfD23lQsj6bec_OyOoKklD-oR2E9Xy-U.sMxxI-kEeq6lhBePRXShB0TR4e5A4bA_DuIYaV7XSzQ&dib_tag=se&keywords=redmi&qid=1712846916&sr=8-14', 'https://www.amazon.in/Redmi-Pastel-Blue-4GB-128GB/dp/B0C9JD8324/ref=sr_1_15?dib=eyJ2IjoiMSJ9.7n66FPwJcORKzzY1dHhMn_-JjhaSZRns_rqQtfgR0UwBRfLhZZOfk7v3oicBl4OUFtOMjnrG-NeDK3SZOtmdBRoJESNFnIztQM9f5POMrBMr6c6Pq1Rsqc9bSaUopzshQ-4hjyxrA1fcNytpdkH9f35taZpX8aB85q6Y3yBDQCTrEJSCi4RnsryM711O3tB2Jrxzwj_uQm3IfD23lQsj6bec_OyOoKklD-oR2E9Xy-U.sMxxI-kEeq6lhBePRXShB0TR4e5A4bA_DuIYaV7XSzQ&dib_tag=se&keywords=redmi&qid=1712846916&sr=8-15', 'https://www.amazon.in/Redmi-Stealth-Bezel-Less-Slimmest-Pro-Grade/dp/B0CQPGF6SY/ref=sr_1_16?dib=eyJ2IjoiMSJ9.7n66FPwJcORKzzY1dHhMn_-JjhaSZRns_rqQtfgR0UwBRfLhZZOfk7v3oicBl4OUFtOMjnrG-NeDK3SZOtmdBRoJESNFnIztQM9f5POMrBMr6c6Pq1Rsqc9bSaUopzshQ-4hjyxrA1fcNytpdkH9f35taZpX8aB85q6Y3yBDQCTrEJSCi4RnsryM711O3tB2Jrxzwj_uQm3IfD23lQsj6bec_OyOoKklD-oR2E9Xy-U.sMxxI-kEeq6lhBePRXShB0TR4e5A4bA_DuIYaV7XSzQ&dib_tag=se&keywords=redmi&qid=1712846916&sr=8-16', 'https://www.amazon.in/Redmi-Jade-Black-128GB-Storage/dp/B0CDQ8P1WQ/ref=sr_1_17?dib=eyJ2IjoiMSJ9.7n66FPwJcORKzzY1dHhMn_-JjhaSZRns_rqQtfgR0UwBRfLhZZOfk7v3oicBl4OUFtOMjnrG-NeDK3SZOtmdBRoJESNFnIztQM9f5POMrBMr6c6Pq1Rsqc9bSaUopzshQ-4hjyxrA1fcNytpdkH9f35taZpX8aB85q6Y3yBDQCTrEJSCi4RnsryM711O3tB2Jrxzwj_uQm3IfD23lQsj6bec_OyOoKklD-oR2E9Xy-U.sMxxI-kEeq6lhBePRXShB0TR4e5A4bA_DuIYaV7XSzQ&dib_tag=se&keywords=redmi&qid=1712846916&sr=8-17', 'https://www.amazon.in/Redmi-Note-10T-5G-Dimensity/dp/B097YGG9PQ/ref=sr_1_18?dib=eyJ2IjoiMSJ9.7n66FPwJcORKzzY1dHhMn_-JjhaSZRns_rqQtfgR0UwBRfLhZZOfk7v3oicBl4OUFtOMjnrG-NeDK3SZOtmdBRoJESNFnIztQM9f5POMrBMr6c6Pq1Rsqc9bSaUopzshQ-4hjyxrA1fcNytpdkH9f35taZpX8aB85q6Y3yBDQCTrEJSCi4RnsryM711O3tB2Jrxzwj_uQm3IfD23lQsj6bec_OyOoKklD-oR2E9Xy-U.sMxxI-kEeq6lhBePRXShB0TR4e5A4bA_DuIYaV7XSzQ&dib_tag=se&keywords=redmi&qid=1712846916&sr=8-18', 'https://www.amazon.in/Redmi-Jade-Black-6GB-128GB/dp/B0C9JFWBH7/ref=sr_1_19?dib=eyJ2IjoiMSJ9.7n66FPwJcORKzzY1dHhMn_-JjhaSZRns_rqQtfgR0UwBRfLhZZOfk7v3oicBl4OUFtOMjnrG-NeDK3SZOtmdBRoJESNFnIztQM9f5POMrBMr6c6Pq1Rsqc9bSaUopzshQ-4hjyxrA1fcNytpdkH9f35taZpX8aB85q6Y3yBDQCTrEJSCi4RnsryM711O3tB2Jrxzwj_uQm3IfD23lQsj6bec_OyOoKklD-oR2E9Xy-U.sMxxI-kEeq6lhBePRXShB0TR4e5A4bA_DuIYaV7XSzQ&dib_tag=se&keywords=redmi&qid=1712846916&sr=8-19', 'https://www.amazon.in/Redmi-12-5G-Moonstone-Silver/dp/B0C9J97Z2D/ref=sr_1_20?dib=eyJ2IjoiMSJ9.7n66FPwJcORKzzY1dHhMn_-JjhaSZRns_rqQtfgR0UwBRfLhZZOfk7v3oicBl4OUFtOMjnrG-NeDK3SZOtmdBRoJESNFnIztQM9f5POMrBMr6c6Pq1Rsqc9bSaUopzshQ-4hjyxrA1fcNytpdkH9f35taZpX8aB85q6Y3yBDQCTrEJSCi4RnsryM711O3tB2Jrxzwj_uQm3IfD23lQsj6bec_OyOoKklD-oR2E9Xy-U.sMxxI-kEeq6lhBePRXShB0TR4e5A4bA_DuIYaV7XSzQ&dib_tag=se&keywords=redmi&qid=1712846916&sr=8-20', 'https://www.amazon.in/sspa/click?ie=UTF8&spc=MTo0MzY0MTMyNjcyODA1MTAxOjE3MTI4NDY5MTY6c3BfYnRmOjIwMTQ2NTc0NzM3Mjk4OjowOjo&url=%2F7SEVEN%25C2%25AE-Suitable-tempered-protector-Protector%2Fdp%2FB0B4JSWV8T%2Fref%3Dsr_1_21_sspa%3Fdib%3DeyJ2IjoiMSJ9.7n66FPwJcORKzzY1dHhMn_-JjhaSZRns_rqQtfgR0UwBRfLhZZOfk7v3oicBl4OUFtOMjnrG-NeDK3SZOtmdBRoJESNFnIztQM9f5POMrBMr6c6Pq1Rsqc9bSaUopzshQ-4hjyxrA1fcNytpdkH9f35taZpX8aB85q6Y3yBDQCTrEJSCi4RnsryM711O3tB2Jrxzwj_uQm3IfD23lQsj6bec_OyOoKklD-oR2E9Xy-U.sMxxI-kEeq6lhBePRXShB0TR4e5A4bA_DuIYaV7XSzQ%26dib_tag%3Dse%26keywords%3Dredmi%26qid%3D1712846916%26sr%3D8-21-spons%26sp_csd%3Dd2lkZ2V0TmFtZT1zcF9idGY%26psc%3D1']\n"
     ]
    }
   ],
   "source": [
    "print(\"Search started!\")\n",
    "for item in items:\n",
    "    # find name\n",
    "    name = item.find_element(By.XPATH, './/span[@class=\"a-size-medium a-color-base a-text-normal\"]')\n",
    "    product_name.append(name.text)\n",
    "    # find ASIN number \n",
    "    data_asin = item.get_attribute(\"data-asin\")\n",
    "    product_asin.append(data_asin)\n",
    "    \n",
    "\n",
    "    # find price\n",
    "   \n",
    "    if item.find_elements(By.XPATH, './/span[@class=\"a-price-whole\"]')!=[]:\n",
    "        whole_price=item.find_elements(By.XPATH, './/span[@class=\"a-price-whole\"]')[0].text\n",
    "    else:\n",
    "        whole_price=0;\n",
    "    product_price.append(whole_price)\n",
    "\n",
    "\n",
    "    # find ratings box\n",
    "    ratings_box = item.find_elements(By.XPATH, './/div[@class=\"a-row a-size-small\"]/span')\n",
    "    # find ratings and ratings_num\n",
    "    if ratings_box != []:\n",
    "        ratings = ratings_box[0].get_attribute('aria-label')\n",
    "        ratings_num = ratings_box[1].get_attribute('aria-label')\n",
    "    else:\n",
    "        ratings, ratings_num = 0, 0\n",
    "    \n",
    "    product_ratings.append(ratings)\n",
    "    product_ratings_num.append(str(ratings_num))\n",
    "    \n",
    "\n",
    "    # find link\n",
    "    link = item.find_element(By.XPATH, './/a[@class=\"a-link-normal s-underline-text s-underline-link-text s-link-style a-text-normal\"]').get_attribute(\"href\")\n",
    "    product_link.append(link)\n",
    "    \n",
    "\n",
    "driver.quit()\n",
    "\n",
    "\n",
    "print(product_name)\n",
    "# print(product_asin)\n",
    "print(product_price)\n",
    "print(product_ratings)\n",
    "print(product_ratings_num)\n",
    "print(product_link)"
   ]
  },
  {
   "cell_type": "code",
   "execution_count": null,
   "id": "f2c8035a",
   "metadata": {},
   "outputs": [],
   "source": []
  }
 ],
 "metadata": {
  "kernelspec": {
   "display_name": "Python 3 (ipykernel)",
   "language": "python",
   "name": "python3"
  },
  "language_info": {
   "codemirror_mode": {
    "name": "ipython",
    "version": 3
   },
   "file_extension": ".py",
   "mimetype": "text/x-python",
   "name": "python",
   "nbconvert_exporter": "python",
   "pygments_lexer": "ipython3",
   "version": "3.9.7"
  }
 },
 "nbformat": 4,
 "nbformat_minor": 5
}
